{
  "cells": [
    {
      "cell_type": "markdown",
      "metadata": {
        "id": "uOxsWL4fyQ2J"
      },
      "source": [
        "# 1 Pré-processamento\n"
      ]
    },
    {
      "cell_type": "markdown",
      "metadata": {
        "id": "vuZVqaVCyQ2M"
      },
      "source": [
        "## 1.1 - Importando os dados"
      ]
    },
    {
      "cell_type": "code",
      "source": [
        "import pandas as pd\n",
        "from sklearn.svm import LinearSVC\n",
        "from sklearn.neighbors import KNeighborsClassifier\n",
        "from sklearn.model_selection import train_test_split\n",
        "from sklearn.linear_model import LogisticRegression\n",
        "from sklearn.preprocessing import StandardScaler\n",
        "from sklearn.metrics import accuracy_score, classification_report\n",
        "import io\n",
        "\n",
        "# Load the dataset\n",
        "url = 'https://raw.githubusercontent.com/LanucciG/ml_costumer_churn/main/Customer-Churn.csv'\n",
        "dados = pd.read_csv(url)\n",
        "dados.head()"
      ],
      "metadata": {
        "id": "j9QQDANeV9UU",
        "colab": {
          "base_uri": "https://localhost:8080/"
        },
        "outputId": "1fe0e44f-b2f5-46c8-98b5-8bb87f160853"
      },
      "execution_count": null,
      "outputs": [
        {
          "output_type": "execute_result",
          "data": {
            "text/plain": [
              "   Maior65Anos Conjuge Dependentes  MesesDeContrato TelefoneFixo  \\\n",
              "0            0     Sim         Nao                1          Nao   \n",
              "1            0     Nao         Nao               34          Sim   \n",
              "2            0     Nao         Nao                2          Sim   \n",
              "3            0     Nao         Nao               45          Nao   \n",
              "4            0     Nao         Nao                2          Sim   \n",
              "\n",
              "  VariasLinhasTelefonicas ServicoDeInternet SegurancaOnline BackupOnline  \\\n",
              "0    SemServicoTelefonico               DSL             Nao          Sim   \n",
              "1                     Nao               DSL             Sim          Nao   \n",
              "2                     Nao               DSL             Sim          Sim   \n",
              "3    SemServicoTelefonico               DSL             Sim          Nao   \n",
              "4                     Nao       FibraOptica             Nao          Nao   \n",
              "\n",
              "  SeguroNoDispositivo SuporteTecnico TVaCabo StreamingDeFilmes TipoDeContrato  \\\n",
              "0                 Nao            Nao     Nao               Nao    Mensalmente   \n",
              "1                 Sim            Nao     Nao               Nao          UmAno   \n",
              "2                 Nao            Nao     Nao               Nao    Mensalmente   \n",
              "3                 Sim            Sim     Nao               Nao          UmAno   \n",
              "4                 Nao            Nao     Nao               Nao    Mensalmente   \n",
              "\n",
              "  PagamentoOnline FormaDePagamento  ContaMensal Churn  \n",
              "0             Sim    ChequeDigital        29.85   Nao  \n",
              "1             Nao      ChequePapel        56.95   Nao  \n",
              "2             Sim      ChequePapel        53.85   Sim  \n",
              "3             Nao    DebitoEmConta        42.30   Nao  \n",
              "4             Sim    ChequeDigital        70.70   Sim  "
            ],
            "text/html": [
              "\n",
              "  <div id=\"df-68ddc3ab-2403-49a5-b941-f1e52dd312e6\" class=\"colab-df-container\">\n",
              "    <div>\n",
              "<style scoped>\n",
              "    .dataframe tbody tr th:only-of-type {\n",
              "        vertical-align: middle;\n",
              "    }\n",
              "\n",
              "    .dataframe tbody tr th {\n",
              "        vertical-align: top;\n",
              "    }\n",
              "\n",
              "    .dataframe thead th {\n",
              "        text-align: right;\n",
              "    }\n",
              "</style>\n",
              "<table border=\"1\" class=\"dataframe\">\n",
              "  <thead>\n",
              "    <tr style=\"text-align: right;\">\n",
              "      <th></th>\n",
              "      <th>Maior65Anos</th>\n",
              "      <th>Conjuge</th>\n",
              "      <th>Dependentes</th>\n",
              "      <th>MesesDeContrato</th>\n",
              "      <th>TelefoneFixo</th>\n",
              "      <th>VariasLinhasTelefonicas</th>\n",
              "      <th>ServicoDeInternet</th>\n",
              "      <th>SegurancaOnline</th>\n",
              "      <th>BackupOnline</th>\n",
              "      <th>SeguroNoDispositivo</th>\n",
              "      <th>SuporteTecnico</th>\n",
              "      <th>TVaCabo</th>\n",
              "      <th>StreamingDeFilmes</th>\n",
              "      <th>TipoDeContrato</th>\n",
              "      <th>PagamentoOnline</th>\n",
              "      <th>FormaDePagamento</th>\n",
              "      <th>ContaMensal</th>\n",
              "      <th>Churn</th>\n",
              "    </tr>\n",
              "  </thead>\n",
              "  <tbody>\n",
              "    <tr>\n",
              "      <th>0</th>\n",
              "      <td>0</td>\n",
              "      <td>Sim</td>\n",
              "      <td>Nao</td>\n",
              "      <td>1</td>\n",
              "      <td>Nao</td>\n",
              "      <td>SemServicoTelefonico</td>\n",
              "      <td>DSL</td>\n",
              "      <td>Nao</td>\n",
              "      <td>Sim</td>\n",
              "      <td>Nao</td>\n",
              "      <td>Nao</td>\n",
              "      <td>Nao</td>\n",
              "      <td>Nao</td>\n",
              "      <td>Mensalmente</td>\n",
              "      <td>Sim</td>\n",
              "      <td>ChequeDigital</td>\n",
              "      <td>29.85</td>\n",
              "      <td>Nao</td>\n",
              "    </tr>\n",
              "    <tr>\n",
              "      <th>1</th>\n",
              "      <td>0</td>\n",
              "      <td>Nao</td>\n",
              "      <td>Nao</td>\n",
              "      <td>34</td>\n",
              "      <td>Sim</td>\n",
              "      <td>Nao</td>\n",
              "      <td>DSL</td>\n",
              "      <td>Sim</td>\n",
              "      <td>Nao</td>\n",
              "      <td>Sim</td>\n",
              "      <td>Nao</td>\n",
              "      <td>Nao</td>\n",
              "      <td>Nao</td>\n",
              "      <td>UmAno</td>\n",
              "      <td>Nao</td>\n",
              "      <td>ChequePapel</td>\n",
              "      <td>56.95</td>\n",
              "      <td>Nao</td>\n",
              "    </tr>\n",
              "    <tr>\n",
              "      <th>2</th>\n",
              "      <td>0</td>\n",
              "      <td>Nao</td>\n",
              "      <td>Nao</td>\n",
              "      <td>2</td>\n",
              "      <td>Sim</td>\n",
              "      <td>Nao</td>\n",
              "      <td>DSL</td>\n",
              "      <td>Sim</td>\n",
              "      <td>Sim</td>\n",
              "      <td>Nao</td>\n",
              "      <td>Nao</td>\n",
              "      <td>Nao</td>\n",
              "      <td>Nao</td>\n",
              "      <td>Mensalmente</td>\n",
              "      <td>Sim</td>\n",
              "      <td>ChequePapel</td>\n",
              "      <td>53.85</td>\n",
              "      <td>Sim</td>\n",
              "    </tr>\n",
              "    <tr>\n",
              "      <th>3</th>\n",
              "      <td>0</td>\n",
              "      <td>Nao</td>\n",
              "      <td>Nao</td>\n",
              "      <td>45</td>\n",
              "      <td>Nao</td>\n",
              "      <td>SemServicoTelefonico</td>\n",
              "      <td>DSL</td>\n",
              "      <td>Sim</td>\n",
              "      <td>Nao</td>\n",
              "      <td>Sim</td>\n",
              "      <td>Sim</td>\n",
              "      <td>Nao</td>\n",
              "      <td>Nao</td>\n",
              "      <td>UmAno</td>\n",
              "      <td>Nao</td>\n",
              "      <td>DebitoEmConta</td>\n",
              "      <td>42.30</td>\n",
              "      <td>Nao</td>\n",
              "    </tr>\n",
              "    <tr>\n",
              "      <th>4</th>\n",
              "      <td>0</td>\n",
              "      <td>Nao</td>\n",
              "      <td>Nao</td>\n",
              "      <td>2</td>\n",
              "      <td>Sim</td>\n",
              "      <td>Nao</td>\n",
              "      <td>FibraOptica</td>\n",
              "      <td>Nao</td>\n",
              "      <td>Nao</td>\n",
              "      <td>Nao</td>\n",
              "      <td>Nao</td>\n",
              "      <td>Nao</td>\n",
              "      <td>Nao</td>\n",
              "      <td>Mensalmente</td>\n",
              "      <td>Sim</td>\n",
              "      <td>ChequeDigital</td>\n",
              "      <td>70.70</td>\n",
              "      <td>Sim</td>\n",
              "    </tr>\n",
              "  </tbody>\n",
              "</table>\n",
              "</div>\n",
              "    <div class=\"colab-df-buttons\">\n",
              "\n",
              "  <div class=\"colab-df-container\">\n",
              "    <button class=\"colab-df-convert\" onclick=\"convertToInteractive('df-68ddc3ab-2403-49a5-b941-f1e52dd312e6')\"\n",
              "            title=\"Convert this dataframe to an interactive table.\"\n",
              "            style=\"display:none;\">\n",
              "\n",
              "  <svg xmlns=\"http://www.w3.org/2000/svg\" height=\"24px\" viewBox=\"0 -960 960 960\">\n",
              "    <path d=\"M120-120v-720h720v720H120Zm60-500h600v-160H180v160Zm220 220h160v-160H400v160Zm0 220h160v-160H400v160ZM180-400h160v-160H180v160Zm440 0h160v-160H620v160ZM180-180h160v-160H180v160Zm440 0h160v-160H620v160Z\"/>\n",
              "  </svg>\n",
              "    </button>\n",
              "\n",
              "  <style>\n",
              "    .colab-df-container {\n",
              "      display:flex;\n",
              "      gap: 12px;\n",
              "    }\n",
              "\n",
              "    .colab-df-convert {\n",
              "      background-color: #E8F0FE;\n",
              "      border: none;\n",
              "      border-radius: 50%;\n",
              "      cursor: pointer;\n",
              "      display: none;\n",
              "      fill: #1967D2;\n",
              "      height: 32px;\n",
              "      padding: 0 0 0 0;\n",
              "      width: 32px;\n",
              "    }\n",
              "\n",
              "    .colab-df-convert:hover {\n",
              "      background-color: #E2EBFA;\n",
              "      box-shadow: 0px 1px 2px rgba(60, 64, 67, 0.3), 0px 1px 3px 1px rgba(60, 64, 67, 0.15);\n",
              "      fill: #174EA6;\n",
              "    }\n",
              "\n",
              "    .colab-df-buttons div {\n",
              "      margin-bottom: 4px;\n",
              "    }\n",
              "\n",
              "    [theme=dark] .colab-df-convert {\n",
              "      background-color: #3B4455;\n",
              "      fill: #D2E3FC;\n",
              "    }\n",
              "\n",
              "    [theme=dark] .colab-df-convert:hover {\n",
              "      background-color: #434B5C;\n",
              "      box-shadow: 0px 1px 3px 1px rgba(0, 0, 0, 0.15);\n",
              "      filter: drop-shadow(0px 1px 2px rgba(0, 0, 0, 0.3));\n",
              "      fill: #FFFFFF;\n",
              "    }\n",
              "  </style>\n",
              "\n",
              "    <script>\n",
              "      const buttonEl =\n",
              "        document.querySelector('#df-68ddc3ab-2403-49a5-b941-f1e52dd312e6 button.colab-df-convert');\n",
              "      buttonEl.style.display =\n",
              "        google.colab.kernel.accessAllowed ? 'block' : 'none';\n",
              "\n",
              "      async function convertToInteractive(key) {\n",
              "        const element = document.querySelector('#df-68ddc3ab-2403-49a5-b941-f1e52dd312e6');\n",
              "        const dataTable =\n",
              "          await google.colab.kernel.invokeFunction('convertToInteractive',\n",
              "                                                    [key], {});\n",
              "        if (!dataTable) return;\n",
              "\n",
              "        const docLinkHtml = 'Like what you see? Visit the ' +\n",
              "          '<a target=\"_blank\" href=https://colab.research.google.com/notebooks/data_table.ipynb>data table notebook</a>'\n",
              "          + ' to learn more about interactive tables.';\n",
              "        element.innerHTML = '';\n",
              "        dataTable['output_type'] = 'display_data';\n",
              "        await google.colab.output.renderOutput(dataTable, element);\n",
              "        const docLink = document.createElement('div');\n",
              "        docLink.innerHTML = docLinkHtml;\n",
              "        element.appendChild(docLink);\n",
              "      }\n",
              "    </script>\n",
              "  </div>\n",
              "\n",
              "\n",
              "<div id=\"df-f2fbdcb8-fb06-4b7b-abc0-090b6397b201\">\n",
              "  <button class=\"colab-df-quickchart\" onclick=\"quickchart('df-f2fbdcb8-fb06-4b7b-abc0-090b6397b201')\"\n",
              "            title=\"Suggest charts\"\n",
              "            style=\"display:none;\">\n",
              "\n",
              "<svg xmlns=\"http://www.w3.org/2000/svg\" height=\"24px\"viewBox=\"0 0 24 24\"\n",
              "     width=\"24px\">\n",
              "    <g>\n",
              "        <path d=\"M19 3H5c-1.1 0-2 .9-2 2v14c0 1.1.9 2 2 2h14c1.1 0 2-.9 2-2V5c0-1.1-.9-2-2-2zM9 17H7v-7h2v7zm4 0h-2V7h2v10zm4 0h-2v-4h2v4z\"/>\n",
              "    </g>\n",
              "</svg>\n",
              "  </button>\n",
              "\n",
              "<style>\n",
              "  .colab-df-quickchart {\n",
              "      --bg-color: #E8F0FE;\n",
              "      --fill-color: #1967D2;\n",
              "      --hover-bg-color: #E2EBFA;\n",
              "      --hover-fill-color: #174EA6;\n",
              "      --disabled-fill-color: #AAA;\n",
              "      --disabled-bg-color: #DDD;\n",
              "  }\n",
              "\n",
              "  [theme=dark] .colab-df-quickchart {\n",
              "      --bg-color: #3B4455;\n",
              "      --fill-color: #D2E3FC;\n",
              "      --hover-bg-color: #434B5C;\n",
              "      --hover-fill-color: #FFFFFF;\n",
              "      --disabled-bg-color: #3B4455;\n",
              "      --disabled-fill-color: #666;\n",
              "  }\n",
              "\n",
              "  .colab-df-quickchart {\n",
              "    background-color: var(--bg-color);\n",
              "    border: none;\n",
              "    border-radius: 50%;\n",
              "    cursor: pointer;\n",
              "    display: none;\n",
              "    fill: var(--fill-color);\n",
              "    height: 32px;\n",
              "    padding: 0;\n",
              "    width: 32px;\n",
              "  }\n",
              "\n",
              "  .colab-df-quickchart:hover {\n",
              "    background-color: var(--hover-bg-color);\n",
              "    box-shadow: 0 1px 2px rgba(60, 64, 67, 0.3), 0 1px 3px 1px rgba(60, 64, 67, 0.15);\n",
              "    fill: var(--button-hover-fill-color);\n",
              "  }\n",
              "\n",
              "  .colab-df-quickchart-complete:disabled,\n",
              "  .colab-df-quickchart-complete:disabled:hover {\n",
              "    background-color: var(--disabled-bg-color);\n",
              "    fill: var(--disabled-fill-color);\n",
              "    box-shadow: none;\n",
              "  }\n",
              "\n",
              "  .colab-df-spinner {\n",
              "    border: 2px solid var(--fill-color);\n",
              "    border-color: transparent;\n",
              "    border-bottom-color: var(--fill-color);\n",
              "    animation:\n",
              "      spin 1s steps(1) infinite;\n",
              "  }\n",
              "\n",
              "  @keyframes spin {\n",
              "    0% {\n",
              "      border-color: transparent;\n",
              "      border-bottom-color: var(--fill-color);\n",
              "      border-left-color: var(--fill-color);\n",
              "    }\n",
              "    20% {\n",
              "      border-color: transparent;\n",
              "      border-left-color: var(--fill-color);\n",
              "      border-top-color: var(--fill-color);\n",
              "    }\n",
              "    30% {\n",
              "      border-color: transparent;\n",
              "      border-left-color: var(--fill-color);\n",
              "      border-top-color: var(--fill-color);\n",
              "      border-right-color: var(--fill-color);\n",
              "    }\n",
              "    40% {\n",
              "      border-color: transparent;\n",
              "      border-right-color: var(--fill-color);\n",
              "      border-top-color: var(--fill-color);\n",
              "    }\n",
              "    60% {\n",
              "      border-color: transparent;\n",
              "      border-right-color: var(--fill-color);\n",
              "    }\n",
              "    80% {\n",
              "      border-color: transparent;\n",
              "      border-right-color: var(--fill-color);\n",
              "      border-bottom-color: var(--fill-color);\n",
              "    }\n",
              "    90% {\n",
              "      border-color: transparent;\n",
              "      border-bottom-color: var(--fill-color);\n",
              "    }\n",
              "  }\n",
              "</style>\n",
              "\n",
              "  <script>\n",
              "    async function quickchart(key) {\n",
              "      const quickchartButtonEl =\n",
              "        document.querySelector('#' + key + ' button');\n",
              "      quickchartButtonEl.disabled = true;  // To prevent multiple clicks.\n",
              "      quickchartButtonEl.classList.add('colab-df-spinner');\n",
              "      try {\n",
              "        const charts = await google.colab.kernel.invokeFunction(\n",
              "            'suggestCharts', [key], {});\n",
              "      } catch (error) {\n",
              "        console.error('Error during call to suggestCharts:', error);\n",
              "      }\n",
              "      quickchartButtonEl.classList.remove('colab-df-spinner');\n",
              "      quickchartButtonEl.classList.add('colab-df-quickchart-complete');\n",
              "    }\n",
              "    (() => {\n",
              "      let quickchartButtonEl =\n",
              "        document.querySelector('#df-f2fbdcb8-fb06-4b7b-abc0-090b6397b201 button');\n",
              "      quickchartButtonEl.style.display =\n",
              "        google.colab.kernel.accessAllowed ? 'block' : 'none';\n",
              "    })();\n",
              "  </script>\n",
              "</div>\n",
              "\n",
              "    </div>\n",
              "  </div>\n"
            ],
            "application/vnd.google.colaboratory.intrinsic+json": {
              "type": "dataframe",
              "variable_name": "dados",
              "summary": "{\n  \"name\": \"dados\",\n  \"rows\": 7043,\n  \"fields\": [\n    {\n      \"column\": \"Maior65Anos\",\n      \"properties\": {\n        \"dtype\": \"number\",\n        \"std\": 0,\n        \"min\": 0,\n        \"max\": 1,\n        \"num_unique_values\": 2,\n        \"samples\": [\n          1,\n          0\n        ],\n        \"semantic_type\": \"\",\n        \"description\": \"\"\n      }\n    },\n    {\n      \"column\": \"Conjuge\",\n      \"properties\": {\n        \"dtype\": \"category\",\n        \"num_unique_values\": 2,\n        \"samples\": [\n          \"Nao\",\n          \"Sim\"\n        ],\n        \"semantic_type\": \"\",\n        \"description\": \"\"\n      }\n    },\n    {\n      \"column\": \"Dependentes\",\n      \"properties\": {\n        \"dtype\": \"category\",\n        \"num_unique_values\": 2,\n        \"samples\": [\n          \"Sim\",\n          \"Nao\"\n        ],\n        \"semantic_type\": \"\",\n        \"description\": \"\"\n      }\n    },\n    {\n      \"column\": \"MesesDeContrato\",\n      \"properties\": {\n        \"dtype\": \"number\",\n        \"std\": 24,\n        \"min\": 0,\n        \"max\": 72,\n        \"num_unique_values\": 73,\n        \"samples\": [\n          8,\n          40\n        ],\n        \"semantic_type\": \"\",\n        \"description\": \"\"\n      }\n    },\n    {\n      \"column\": \"TelefoneFixo\",\n      \"properties\": {\n        \"dtype\": \"category\",\n        \"num_unique_values\": 2,\n        \"samples\": [\n          \"Sim\",\n          \"Nao\"\n        ],\n        \"semantic_type\": \"\",\n        \"description\": \"\"\n      }\n    },\n    {\n      \"column\": \"VariasLinhasTelefonicas\",\n      \"properties\": {\n        \"dtype\": \"category\",\n        \"num_unique_values\": 3,\n        \"samples\": [\n          \"SemServicoTelefonico\",\n          \"Nao\"\n        ],\n        \"semantic_type\": \"\",\n        \"description\": \"\"\n      }\n    },\n    {\n      \"column\": \"ServicoDeInternet\",\n      \"properties\": {\n        \"dtype\": \"category\",\n        \"num_unique_values\": 3,\n        \"samples\": [\n          \"DSL\",\n          \"FibraOptica\"\n        ],\n        \"semantic_type\": \"\",\n        \"description\": \"\"\n      }\n    },\n    {\n      \"column\": \"SegurancaOnline\",\n      \"properties\": {\n        \"dtype\": \"category\",\n        \"num_unique_values\": 3,\n        \"samples\": [\n          \"Nao\",\n          \"Sim\"\n        ],\n        \"semantic_type\": \"\",\n        \"description\": \"\"\n      }\n    },\n    {\n      \"column\": \"BackupOnline\",\n      \"properties\": {\n        \"dtype\": \"category\",\n        \"num_unique_values\": 3,\n        \"samples\": [\n          \"Sim\",\n          \"Nao\"\n        ],\n        \"semantic_type\": \"\",\n        \"description\": \"\"\n      }\n    },\n    {\n      \"column\": \"SeguroNoDispositivo\",\n      \"properties\": {\n        \"dtype\": \"category\",\n        \"num_unique_values\": 3,\n        \"samples\": [\n          \"Nao\",\n          \"Sim\"\n        ],\n        \"semantic_type\": \"\",\n        \"description\": \"\"\n      }\n    },\n    {\n      \"column\": \"SuporteTecnico\",\n      \"properties\": {\n        \"dtype\": \"category\",\n        \"num_unique_values\": 3,\n        \"samples\": [\n          \"Nao\",\n          \"Sim\"\n        ],\n        \"semantic_type\": \"\",\n        \"description\": \"\"\n      }\n    },\n    {\n      \"column\": \"TVaCabo\",\n      \"properties\": {\n        \"dtype\": \"category\",\n        \"num_unique_values\": 3,\n        \"samples\": [\n          \"Nao\",\n          \"Sim\"\n        ],\n        \"semantic_type\": \"\",\n        \"description\": \"\"\n      }\n    },\n    {\n      \"column\": \"StreamingDeFilmes\",\n      \"properties\": {\n        \"dtype\": \"category\",\n        \"num_unique_values\": 3,\n        \"samples\": [\n          \"Nao\",\n          \"Sim\"\n        ],\n        \"semantic_type\": \"\",\n        \"description\": \"\"\n      }\n    },\n    {\n      \"column\": \"TipoDeContrato\",\n      \"properties\": {\n        \"dtype\": \"category\",\n        \"num_unique_values\": 3,\n        \"samples\": [\n          \"Mensalmente\",\n          \"UmAno\"\n        ],\n        \"semantic_type\": \"\",\n        \"description\": \"\"\n      }\n    },\n    {\n      \"column\": \"PagamentoOnline\",\n      \"properties\": {\n        \"dtype\": \"category\",\n        \"num_unique_values\": 2,\n        \"samples\": [\n          \"Nao\",\n          \"Sim\"\n        ],\n        \"semantic_type\": \"\",\n        \"description\": \"\"\n      }\n    },\n    {\n      \"column\": \"FormaDePagamento\",\n      \"properties\": {\n        \"dtype\": \"category\",\n        \"num_unique_values\": 4,\n        \"samples\": [\n          \"ChequePapel\",\n          \"CartaoDeCredito\"\n        ],\n        \"semantic_type\": \"\",\n        \"description\": \"\"\n      }\n    },\n    {\n      \"column\": \"ContaMensal\",\n      \"properties\": {\n        \"dtype\": \"number\",\n        \"std\": 30.090047097678493,\n        \"min\": 18.25,\n        \"max\": 118.75,\n        \"num_unique_values\": 1585,\n        \"samples\": [\n          48.85,\n          20.05\n        ],\n        \"semantic_type\": \"\",\n        \"description\": \"\"\n      }\n    },\n    {\n      \"column\": \"Churn\",\n      \"properties\": {\n        \"dtype\": \"category\",\n        \"num_unique_values\": 2,\n        \"samples\": [\n          \"Sim\",\n          \"Nao\"\n        ],\n        \"semantic_type\": \"\",\n        \"description\": \"\"\n      }\n    }\n  ]\n}"
            }
          },
          "metadata": {},
          "execution_count": 82
        }
      ]
    },
    {
      "cell_type": "markdown",
      "metadata": {
        "id": "V8lNCeRnyQ2P"
      },
      "source": [
        "## 1.2 - Diferentes Variáveis"
      ]
    },
    {
      "cell_type": "code",
      "source": [
        "x = dados.drop('Churn', axis=1)"
      ],
      "metadata": {
        "id": "UqQ4f1RpV8tG"
      },
      "execution_count": null,
      "outputs": []
    },
    {
      "cell_type": "code",
      "source": [
        "y = dados[\"Churn\"] #classes\n",
        "y.head()"
      ],
      "metadata": {
        "colab": {
          "base_uri": "https://localhost:8080/"
        },
        "id": "tOuSMLhXiDxB",
        "outputId": "bf1416d6-94a2-4143-f4cb-302b801dff8f"
      },
      "execution_count": null,
      "outputs": [
        {
          "output_type": "execute_result",
          "data": {
            "text/plain": [
              "0    Nao\n",
              "1    Nao\n",
              "2    Sim\n",
              "3    Nao\n",
              "4    Sim\n",
              "Name: Churn, dtype: object"
            ]
          },
          "metadata": {},
          "execution_count": 84
        }
      ]
    },
    {
      "cell_type": "code",
      "source": [
        "dados.shape"
      ],
      "metadata": {
        "colab": {
          "base_uri": "https://localhost:8080/"
        },
        "id": "_r7urVXaiF7a",
        "outputId": "a802236e-20dd-4731-8329-aaf7a2822666"
      },
      "execution_count": null,
      "outputs": [
        {
          "output_type": "execute_result",
          "data": {
            "text/plain": [
              "(7043, 18)"
            ]
          },
          "metadata": {},
          "execution_count": 85
        }
      ]
    },
    {
      "cell_type": "code",
      "source": [
        "for col in dados.columns:\n",
        "    print(col, dados[col].unique())"
      ],
      "metadata": {
        "colab": {
          "base_uri": "https://localhost:8080/"
        },
        "id": "r7WX20Q2i8wp",
        "outputId": "e473cce9-723a-4532-cb73-9ca55107a200"
      },
      "execution_count": null,
      "outputs": [
        {
          "output_type": "stream",
          "name": "stdout",
          "text": [
            "Maior65Anos [0 1]\n",
            "Conjuge ['Sim' 'Nao']\n",
            "Dependentes ['Nao' 'Sim']\n",
            "MesesDeContrato [ 1 34  2 45  8 22 10 28 62 13 16 58 49 25 69 52 71 21 12 30 47 72 17 27\n",
            "  5 46 11 70 63 43 15 60 18 66  9  3 31 50 64 56  7 42 35 48 29 65 38 68\n",
            " 32 55 37 36 41  6  4 33 67 23 57 61 14 20 53 40 59 24 44 19 54 51 26  0\n",
            " 39]\n",
            "TelefoneFixo ['Nao' 'Sim']\n",
            "VariasLinhasTelefonicas ['SemServicoTelefonico' 'Nao' 'Sim']\n",
            "ServicoDeInternet ['DSL' 'FibraOptica' 'Nao']\n",
            "SegurancaOnline ['Nao' 'Sim' 'SemServicoDeInternet']\n",
            "BackupOnline ['Sim' 'Nao' 'SemServicoDeInternet']\n",
            "SeguroNoDispositivo ['Nao' 'Sim' 'SemServicoDeInternet']\n",
            "SuporteTecnico ['Nao' 'Sim' 'SemServicoDeInternet']\n",
            "TVaCabo ['Nao' 'Sim' 'SemServicoDeInternet']\n",
            "StreamingDeFilmes ['Nao' 'Sim' 'SemServicoDeInternet']\n",
            "TipoDeContrato ['Mensalmente' 'UmAno' 'DoisAnos']\n",
            "PagamentoOnline ['Sim' 'Nao']\n",
            "FormaDePagamento ['ChequeDigital' 'ChequePapel' 'DebitoEmConta' 'CartaoDeCredito']\n",
            "ContaMensal [29.85 56.95 53.85 ... 63.1  44.2  78.7 ]\n",
            "Churn ['Nao' 'Sim']\n"
          ]
        }
      ]
    },
    {
      "cell_type": "code",
      "source": [
        "#Modificação de forma manual\n",
        "traducao_dic = {'Sim': 1,\n",
        "                'Nao': 0}\n",
        "\n",
        "#Criando um novo dataframe de classes binárias\n",
        "dados_binarios = dados[['Conjuge', 'Dependentes', 'TelefoneFixo', 'PagamentoOnline', 'Churn']]\n",
        "\n",
        "#Trocando valores binarios\n",
        "dados_binarios.replace(traducao_dic, inplace=True)\n",
        "dados_binarios.head()"
      ],
      "metadata": {
        "colab": {
          "base_uri": "https://localhost:8080/"
        },
        "id": "2dPoq2lYi2xh",
        "outputId": "437ec554-bab8-4d25-e5e7-9cfc5a0de038"
      },
      "execution_count": null,
      "outputs": [
        {
          "output_type": "stream",
          "name": "stderr",
          "text": [
            "<ipython-input-87-b9ba132b67d2>:9: SettingWithCopyWarning: \n",
            "A value is trying to be set on a copy of a slice from a DataFrame\n",
            "\n",
            "See the caveats in the documentation: https://pandas.pydata.org/pandas-docs/stable/user_guide/indexing.html#returning-a-view-versus-a-copy\n",
            "  dados_binarios.replace(traducao_dic, inplace=True)\n"
          ]
        },
        {
          "output_type": "execute_result",
          "data": {
            "text/plain": [
              "   Conjuge  Dependentes  TelefoneFixo  PagamentoOnline  Churn\n",
              "0        1            0             0                1      0\n",
              "1        0            0             1                0      0\n",
              "2        0            0             1                1      1\n",
              "3        0            0             0                0      0\n",
              "4        0            0             1                1      1"
            ],
            "text/html": [
              "\n",
              "  <div id=\"df-0e0f73dc-58c3-424b-b324-12ed44fc6496\" class=\"colab-df-container\">\n",
              "    <div>\n",
              "<style scoped>\n",
              "    .dataframe tbody tr th:only-of-type {\n",
              "        vertical-align: middle;\n",
              "    }\n",
              "\n",
              "    .dataframe tbody tr th {\n",
              "        vertical-align: top;\n",
              "    }\n",
              "\n",
              "    .dataframe thead th {\n",
              "        text-align: right;\n",
              "    }\n",
              "</style>\n",
              "<table border=\"1\" class=\"dataframe\">\n",
              "  <thead>\n",
              "    <tr style=\"text-align: right;\">\n",
              "      <th></th>\n",
              "      <th>Conjuge</th>\n",
              "      <th>Dependentes</th>\n",
              "      <th>TelefoneFixo</th>\n",
              "      <th>PagamentoOnline</th>\n",
              "      <th>Churn</th>\n",
              "    </tr>\n",
              "  </thead>\n",
              "  <tbody>\n",
              "    <tr>\n",
              "      <th>0</th>\n",
              "      <td>1</td>\n",
              "      <td>0</td>\n",
              "      <td>0</td>\n",
              "      <td>1</td>\n",
              "      <td>0</td>\n",
              "    </tr>\n",
              "    <tr>\n",
              "      <th>1</th>\n",
              "      <td>0</td>\n",
              "      <td>0</td>\n",
              "      <td>1</td>\n",
              "      <td>0</td>\n",
              "      <td>0</td>\n",
              "    </tr>\n",
              "    <tr>\n",
              "      <th>2</th>\n",
              "      <td>0</td>\n",
              "      <td>0</td>\n",
              "      <td>1</td>\n",
              "      <td>1</td>\n",
              "      <td>1</td>\n",
              "    </tr>\n",
              "    <tr>\n",
              "      <th>3</th>\n",
              "      <td>0</td>\n",
              "      <td>0</td>\n",
              "      <td>0</td>\n",
              "      <td>0</td>\n",
              "      <td>0</td>\n",
              "    </tr>\n",
              "    <tr>\n",
              "      <th>4</th>\n",
              "      <td>0</td>\n",
              "      <td>0</td>\n",
              "      <td>1</td>\n",
              "      <td>1</td>\n",
              "      <td>1</td>\n",
              "    </tr>\n",
              "  </tbody>\n",
              "</table>\n",
              "</div>\n",
              "    <div class=\"colab-df-buttons\">\n",
              "\n",
              "  <div class=\"colab-df-container\">\n",
              "    <button class=\"colab-df-convert\" onclick=\"convertToInteractive('df-0e0f73dc-58c3-424b-b324-12ed44fc6496')\"\n",
              "            title=\"Convert this dataframe to an interactive table.\"\n",
              "            style=\"display:none;\">\n",
              "\n",
              "  <svg xmlns=\"http://www.w3.org/2000/svg\" height=\"24px\" viewBox=\"0 -960 960 960\">\n",
              "    <path d=\"M120-120v-720h720v720H120Zm60-500h600v-160H180v160Zm220 220h160v-160H400v160Zm0 220h160v-160H400v160ZM180-400h160v-160H180v160Zm440 0h160v-160H620v160ZM180-180h160v-160H180v160Zm440 0h160v-160H620v160Z\"/>\n",
              "  </svg>\n",
              "    </button>\n",
              "\n",
              "  <style>\n",
              "    .colab-df-container {\n",
              "      display:flex;\n",
              "      gap: 12px;\n",
              "    }\n",
              "\n",
              "    .colab-df-convert {\n",
              "      background-color: #E8F0FE;\n",
              "      border: none;\n",
              "      border-radius: 50%;\n",
              "      cursor: pointer;\n",
              "      display: none;\n",
              "      fill: #1967D2;\n",
              "      height: 32px;\n",
              "      padding: 0 0 0 0;\n",
              "      width: 32px;\n",
              "    }\n",
              "\n",
              "    .colab-df-convert:hover {\n",
              "      background-color: #E2EBFA;\n",
              "      box-shadow: 0px 1px 2px rgba(60, 64, 67, 0.3), 0px 1px 3px 1px rgba(60, 64, 67, 0.15);\n",
              "      fill: #174EA6;\n",
              "    }\n",
              "\n",
              "    .colab-df-buttons div {\n",
              "      margin-bottom: 4px;\n",
              "    }\n",
              "\n",
              "    [theme=dark] .colab-df-convert {\n",
              "      background-color: #3B4455;\n",
              "      fill: #D2E3FC;\n",
              "    }\n",
              "\n",
              "    [theme=dark] .colab-df-convert:hover {\n",
              "      background-color: #434B5C;\n",
              "      box-shadow: 0px 1px 3px 1px rgba(0, 0, 0, 0.15);\n",
              "      filter: drop-shadow(0px 1px 2px rgba(0, 0, 0, 0.3));\n",
              "      fill: #FFFFFF;\n",
              "    }\n",
              "  </style>\n",
              "\n",
              "    <script>\n",
              "      const buttonEl =\n",
              "        document.querySelector('#df-0e0f73dc-58c3-424b-b324-12ed44fc6496 button.colab-df-convert');\n",
              "      buttonEl.style.display =\n",
              "        google.colab.kernel.accessAllowed ? 'block' : 'none';\n",
              "\n",
              "      async function convertToInteractive(key) {\n",
              "        const element = document.querySelector('#df-0e0f73dc-58c3-424b-b324-12ed44fc6496');\n",
              "        const dataTable =\n",
              "          await google.colab.kernel.invokeFunction('convertToInteractive',\n",
              "                                                    [key], {});\n",
              "        if (!dataTable) return;\n",
              "\n",
              "        const docLinkHtml = 'Like what you see? Visit the ' +\n",
              "          '<a target=\"_blank\" href=https://colab.research.google.com/notebooks/data_table.ipynb>data table notebook</a>'\n",
              "          + ' to learn more about interactive tables.';\n",
              "        element.innerHTML = '';\n",
              "        dataTable['output_type'] = 'display_data';\n",
              "        await google.colab.output.renderOutput(dataTable, element);\n",
              "        const docLink = document.createElement('div');\n",
              "        docLink.innerHTML = docLinkHtml;\n",
              "        element.appendChild(docLink);\n",
              "      }\n",
              "    </script>\n",
              "  </div>\n",
              "\n",
              "\n",
              "<div id=\"df-198d46dc-6872-4b7f-90cd-e822e428e95e\">\n",
              "  <button class=\"colab-df-quickchart\" onclick=\"quickchart('df-198d46dc-6872-4b7f-90cd-e822e428e95e')\"\n",
              "            title=\"Suggest charts\"\n",
              "            style=\"display:none;\">\n",
              "\n",
              "<svg xmlns=\"http://www.w3.org/2000/svg\" height=\"24px\"viewBox=\"0 0 24 24\"\n",
              "     width=\"24px\">\n",
              "    <g>\n",
              "        <path d=\"M19 3H5c-1.1 0-2 .9-2 2v14c0 1.1.9 2 2 2h14c1.1 0 2-.9 2-2V5c0-1.1-.9-2-2-2zM9 17H7v-7h2v7zm4 0h-2V7h2v10zm4 0h-2v-4h2v4z\"/>\n",
              "    </g>\n",
              "</svg>\n",
              "  </button>\n",
              "\n",
              "<style>\n",
              "  .colab-df-quickchart {\n",
              "      --bg-color: #E8F0FE;\n",
              "      --fill-color: #1967D2;\n",
              "      --hover-bg-color: #E2EBFA;\n",
              "      --hover-fill-color: #174EA6;\n",
              "      --disabled-fill-color: #AAA;\n",
              "      --disabled-bg-color: #DDD;\n",
              "  }\n",
              "\n",
              "  [theme=dark] .colab-df-quickchart {\n",
              "      --bg-color: #3B4455;\n",
              "      --fill-color: #D2E3FC;\n",
              "      --hover-bg-color: #434B5C;\n",
              "      --hover-fill-color: #FFFFFF;\n",
              "      --disabled-bg-color: #3B4455;\n",
              "      --disabled-fill-color: #666;\n",
              "  }\n",
              "\n",
              "  .colab-df-quickchart {\n",
              "    background-color: var(--bg-color);\n",
              "    border: none;\n",
              "    border-radius: 50%;\n",
              "    cursor: pointer;\n",
              "    display: none;\n",
              "    fill: var(--fill-color);\n",
              "    height: 32px;\n",
              "    padding: 0;\n",
              "    width: 32px;\n",
              "  }\n",
              "\n",
              "  .colab-df-quickchart:hover {\n",
              "    background-color: var(--hover-bg-color);\n",
              "    box-shadow: 0 1px 2px rgba(60, 64, 67, 0.3), 0 1px 3px 1px rgba(60, 64, 67, 0.15);\n",
              "    fill: var(--button-hover-fill-color);\n",
              "  }\n",
              "\n",
              "  .colab-df-quickchart-complete:disabled,\n",
              "  .colab-df-quickchart-complete:disabled:hover {\n",
              "    background-color: var(--disabled-bg-color);\n",
              "    fill: var(--disabled-fill-color);\n",
              "    box-shadow: none;\n",
              "  }\n",
              "\n",
              "  .colab-df-spinner {\n",
              "    border: 2px solid var(--fill-color);\n",
              "    border-color: transparent;\n",
              "    border-bottom-color: var(--fill-color);\n",
              "    animation:\n",
              "      spin 1s steps(1) infinite;\n",
              "  }\n",
              "\n",
              "  @keyframes spin {\n",
              "    0% {\n",
              "      border-color: transparent;\n",
              "      border-bottom-color: var(--fill-color);\n",
              "      border-left-color: var(--fill-color);\n",
              "    }\n",
              "    20% {\n",
              "      border-color: transparent;\n",
              "      border-left-color: var(--fill-color);\n",
              "      border-top-color: var(--fill-color);\n",
              "    }\n",
              "    30% {\n",
              "      border-color: transparent;\n",
              "      border-left-color: var(--fill-color);\n",
              "      border-top-color: var(--fill-color);\n",
              "      border-right-color: var(--fill-color);\n",
              "    }\n",
              "    40% {\n",
              "      border-color: transparent;\n",
              "      border-right-color: var(--fill-color);\n",
              "      border-top-color: var(--fill-color);\n",
              "    }\n",
              "    60% {\n",
              "      border-color: transparent;\n",
              "      border-right-color: var(--fill-color);\n",
              "    }\n",
              "    80% {\n",
              "      border-color: transparent;\n",
              "      border-right-color: var(--fill-color);\n",
              "      border-bottom-color: var(--fill-color);\n",
              "    }\n",
              "    90% {\n",
              "      border-color: transparent;\n",
              "      border-bottom-color: var(--fill-color);\n",
              "    }\n",
              "  }\n",
              "</style>\n",
              "\n",
              "  <script>\n",
              "    async function quickchart(key) {\n",
              "      const quickchartButtonEl =\n",
              "        document.querySelector('#' + key + ' button');\n",
              "      quickchartButtonEl.disabled = true;  // To prevent multiple clicks.\n",
              "      quickchartButtonEl.classList.add('colab-df-spinner');\n",
              "      try {\n",
              "        const charts = await google.colab.kernel.invokeFunction(\n",
              "            'suggestCharts', [key], {});\n",
              "      } catch (error) {\n",
              "        console.error('Error during call to suggestCharts:', error);\n",
              "      }\n",
              "      quickchartButtonEl.classList.remove('colab-df-spinner');\n",
              "      quickchartButtonEl.classList.add('colab-df-quickchart-complete');\n",
              "    }\n",
              "    (() => {\n",
              "      let quickchartButtonEl =\n",
              "        document.querySelector('#df-198d46dc-6872-4b7f-90cd-e822e428e95e button');\n",
              "      quickchartButtonEl.style.display =\n",
              "        google.colab.kernel.accessAllowed ? 'block' : 'none';\n",
              "    })();\n",
              "  </script>\n",
              "</div>\n",
              "\n",
              "    </div>\n",
              "  </div>\n"
            ],
            "application/vnd.google.colaboratory.intrinsic+json": {
              "type": "dataframe",
              "variable_name": "dados_binarios",
              "summary": "{\n  \"name\": \"dados_binarios\",\n  \"rows\": 7043,\n  \"fields\": [\n    {\n      \"column\": \"Conjuge\",\n      \"properties\": {\n        \"dtype\": \"number\",\n        \"std\": 0,\n        \"min\": 0,\n        \"max\": 1,\n        \"num_unique_values\": 2,\n        \"samples\": [\n          0,\n          1\n        ],\n        \"semantic_type\": \"\",\n        \"description\": \"\"\n      }\n    },\n    {\n      \"column\": \"Dependentes\",\n      \"properties\": {\n        \"dtype\": \"number\",\n        \"std\": 0,\n        \"min\": 0,\n        \"max\": 1,\n        \"num_unique_values\": 2,\n        \"samples\": [\n          1,\n          0\n        ],\n        \"semantic_type\": \"\",\n        \"description\": \"\"\n      }\n    },\n    {\n      \"column\": \"TelefoneFixo\",\n      \"properties\": {\n        \"dtype\": \"number\",\n        \"std\": 0,\n        \"min\": 0,\n        \"max\": 1,\n        \"num_unique_values\": 2,\n        \"samples\": [\n          1,\n          0\n        ],\n        \"semantic_type\": \"\",\n        \"description\": \"\"\n      }\n    },\n    {\n      \"column\": \"PagamentoOnline\",\n      \"properties\": {\n        \"dtype\": \"number\",\n        \"std\": 0,\n        \"min\": 0,\n        \"max\": 1,\n        \"num_unique_values\": 2,\n        \"samples\": [\n          0,\n          1\n        ],\n        \"semantic_type\": \"\",\n        \"description\": \"\"\n      }\n    },\n    {\n      \"column\": \"Churn\",\n      \"properties\": {\n        \"dtype\": \"number\",\n        \"std\": 0,\n        \"min\": 0,\n        \"max\": 1,\n        \"num_unique_values\": 2,\n        \"samples\": [\n          1,\n          0\n        ],\n        \"semantic_type\": \"\",\n        \"description\": \"\"\n      }\n    }\n  ]\n}"
            }
          },
          "metadata": {},
          "execution_count": 87
        }
      ]
    },
    {
      "cell_type": "code",
      "source": [
        "#Tratando colunas de classes múltiplas\n",
        "#Transformação pelo get_dummies\n",
        "#axis=1 representa colunas pois o drop padrão remove linhas\n",
        "dados_sem_colunas_bin = dados.drop(['Conjuge', 'Dependentes', 'TelefoneFixo', 'PagamentoOnline', 'Churn'], axis=1)\n",
        "\n",
        "#Convertendo colunas de classes múltiplas\n",
        "dummie_dados = pd.get_dummies(dados_sem_colunas_bin)\n",
        "dummie_dados.head()"
      ],
      "metadata": {
        "colab": {
          "base_uri": "https://localhost:8080/"
        },
        "id": "YMUyzvWZjFap",
        "outputId": "6dd36406-f2e6-44c7-ca20-82ef41e70c82"
      },
      "execution_count": null,
      "outputs": [
        {
          "output_type": "execute_result",
          "data": {
            "text/plain": [
              "   Maior65Anos  MesesDeContrato  ContaMensal  VariasLinhasTelefonicas_Nao  \\\n",
              "0            0                1        29.85                        False   \n",
              "1            0               34        56.95                         True   \n",
              "2            0                2        53.85                         True   \n",
              "3            0               45        42.30                        False   \n",
              "4            0                2        70.70                         True   \n",
              "\n",
              "   VariasLinhasTelefonicas_SemServicoTelefonico  VariasLinhasTelefonicas_Sim  \\\n",
              "0                                          True                        False   \n",
              "1                                         False                        False   \n",
              "2                                         False                        False   \n",
              "3                                          True                        False   \n",
              "4                                         False                        False   \n",
              "\n",
              "   ServicoDeInternet_DSL  ServicoDeInternet_FibraOptica  \\\n",
              "0                   True                          False   \n",
              "1                   True                          False   \n",
              "2                   True                          False   \n",
              "3                   True                          False   \n",
              "4                  False                           True   \n",
              "\n",
              "   ServicoDeInternet_Nao  SegurancaOnline_Nao  \\\n",
              "0                  False                 True   \n",
              "1                  False                False   \n",
              "2                  False                False   \n",
              "3                  False                False   \n",
              "4                  False                 True   \n",
              "\n",
              "   SegurancaOnline_SemServicoDeInternet  SegurancaOnline_Sim  \\\n",
              "0                                 False                False   \n",
              "1                                 False                 True   \n",
              "2                                 False                 True   \n",
              "3                                 False                 True   \n",
              "4                                 False                False   \n",
              "\n",
              "   BackupOnline_Nao  BackupOnline_SemServicoDeInternet  BackupOnline_Sim  \\\n",
              "0             False                              False              True   \n",
              "1              True                              False             False   \n",
              "2             False                              False              True   \n",
              "3              True                              False             False   \n",
              "4              True                              False             False   \n",
              "\n",
              "   SeguroNoDispositivo_Nao  SeguroNoDispositivo_SemServicoDeInternet  \\\n",
              "0                     True                                     False   \n",
              "1                    False                                     False   \n",
              "2                     True                                     False   \n",
              "3                    False                                     False   \n",
              "4                     True                                     False   \n",
              "\n",
              "   SeguroNoDispositivo_Sim  SuporteTecnico_Nao  \\\n",
              "0                    False                True   \n",
              "1                     True                True   \n",
              "2                    False                True   \n",
              "3                     True               False   \n",
              "4                    False                True   \n",
              "\n",
              "   SuporteTecnico_SemServicoDeInternet  SuporteTecnico_Sim  TVaCabo_Nao  \\\n",
              "0                                False               False         True   \n",
              "1                                False               False         True   \n",
              "2                                False               False         True   \n",
              "3                                False                True         True   \n",
              "4                                False               False         True   \n",
              "\n",
              "   TVaCabo_SemServicoDeInternet  TVaCabo_Sim  StreamingDeFilmes_Nao  \\\n",
              "0                         False        False                   True   \n",
              "1                         False        False                   True   \n",
              "2                         False        False                   True   \n",
              "3                         False        False                   True   \n",
              "4                         False        False                   True   \n",
              "\n",
              "   StreamingDeFilmes_SemServicoDeInternet  StreamingDeFilmes_Sim  \\\n",
              "0                                   False                  False   \n",
              "1                                   False                  False   \n",
              "2                                   False                  False   \n",
              "3                                   False                  False   \n",
              "4                                   False                  False   \n",
              "\n",
              "   TipoDeContrato_DoisAnos  TipoDeContrato_Mensalmente  TipoDeContrato_UmAno  \\\n",
              "0                    False                        True                 False   \n",
              "1                    False                       False                  True   \n",
              "2                    False                        True                 False   \n",
              "3                    False                       False                  True   \n",
              "4                    False                        True                 False   \n",
              "\n",
              "   FormaDePagamento_CartaoDeCredito  FormaDePagamento_ChequeDigital  \\\n",
              "0                             False                            True   \n",
              "1                             False                           False   \n",
              "2                             False                           False   \n",
              "3                             False                           False   \n",
              "4                             False                            True   \n",
              "\n",
              "   FormaDePagamento_ChequePapel  FormaDePagamento_DebitoEmConta  \n",
              "0                         False                           False  \n",
              "1                          True                           False  \n",
              "2                          True                           False  \n",
              "3                         False                            True  \n",
              "4                         False                           False  "
            ],
            "text/html": [
              "\n",
              "  <div id=\"df-7680dcd5-1d12-4eb3-8101-1e3c68ab8b26\" class=\"colab-df-container\">\n",
              "    <div>\n",
              "<style scoped>\n",
              "    .dataframe tbody tr th:only-of-type {\n",
              "        vertical-align: middle;\n",
              "    }\n",
              "\n",
              "    .dataframe tbody tr th {\n",
              "        vertical-align: top;\n",
              "    }\n",
              "\n",
              "    .dataframe thead th {\n",
              "        text-align: right;\n",
              "    }\n",
              "</style>\n",
              "<table border=\"1\" class=\"dataframe\">\n",
              "  <thead>\n",
              "    <tr style=\"text-align: right;\">\n",
              "      <th></th>\n",
              "      <th>Maior65Anos</th>\n",
              "      <th>MesesDeContrato</th>\n",
              "      <th>ContaMensal</th>\n",
              "      <th>VariasLinhasTelefonicas_Nao</th>\n",
              "      <th>VariasLinhasTelefonicas_SemServicoTelefonico</th>\n",
              "      <th>VariasLinhasTelefonicas_Sim</th>\n",
              "      <th>ServicoDeInternet_DSL</th>\n",
              "      <th>ServicoDeInternet_FibraOptica</th>\n",
              "      <th>ServicoDeInternet_Nao</th>\n",
              "      <th>SegurancaOnline_Nao</th>\n",
              "      <th>SegurancaOnline_SemServicoDeInternet</th>\n",
              "      <th>SegurancaOnline_Sim</th>\n",
              "      <th>BackupOnline_Nao</th>\n",
              "      <th>BackupOnline_SemServicoDeInternet</th>\n",
              "      <th>BackupOnline_Sim</th>\n",
              "      <th>SeguroNoDispositivo_Nao</th>\n",
              "      <th>SeguroNoDispositivo_SemServicoDeInternet</th>\n",
              "      <th>SeguroNoDispositivo_Sim</th>\n",
              "      <th>SuporteTecnico_Nao</th>\n",
              "      <th>SuporteTecnico_SemServicoDeInternet</th>\n",
              "      <th>SuporteTecnico_Sim</th>\n",
              "      <th>TVaCabo_Nao</th>\n",
              "      <th>TVaCabo_SemServicoDeInternet</th>\n",
              "      <th>TVaCabo_Sim</th>\n",
              "      <th>StreamingDeFilmes_Nao</th>\n",
              "      <th>StreamingDeFilmes_SemServicoDeInternet</th>\n",
              "      <th>StreamingDeFilmes_Sim</th>\n",
              "      <th>TipoDeContrato_DoisAnos</th>\n",
              "      <th>TipoDeContrato_Mensalmente</th>\n",
              "      <th>TipoDeContrato_UmAno</th>\n",
              "      <th>FormaDePagamento_CartaoDeCredito</th>\n",
              "      <th>FormaDePagamento_ChequeDigital</th>\n",
              "      <th>FormaDePagamento_ChequePapel</th>\n",
              "      <th>FormaDePagamento_DebitoEmConta</th>\n",
              "    </tr>\n",
              "  </thead>\n",
              "  <tbody>\n",
              "    <tr>\n",
              "      <th>0</th>\n",
              "      <td>0</td>\n",
              "      <td>1</td>\n",
              "      <td>29.85</td>\n",
              "      <td>False</td>\n",
              "      <td>True</td>\n",
              "      <td>False</td>\n",
              "      <td>True</td>\n",
              "      <td>False</td>\n",
              "      <td>False</td>\n",
              "      <td>True</td>\n",
              "      <td>False</td>\n",
              "      <td>False</td>\n",
              "      <td>False</td>\n",
              "      <td>False</td>\n",
              "      <td>True</td>\n",
              "      <td>True</td>\n",
              "      <td>False</td>\n",
              "      <td>False</td>\n",
              "      <td>True</td>\n",
              "      <td>False</td>\n",
              "      <td>False</td>\n",
              "      <td>True</td>\n",
              "      <td>False</td>\n",
              "      <td>False</td>\n",
              "      <td>True</td>\n",
              "      <td>False</td>\n",
              "      <td>False</td>\n",
              "      <td>False</td>\n",
              "      <td>True</td>\n",
              "      <td>False</td>\n",
              "      <td>False</td>\n",
              "      <td>True</td>\n",
              "      <td>False</td>\n",
              "      <td>False</td>\n",
              "    </tr>\n",
              "    <tr>\n",
              "      <th>1</th>\n",
              "      <td>0</td>\n",
              "      <td>34</td>\n",
              "      <td>56.95</td>\n",
              "      <td>True</td>\n",
              "      <td>False</td>\n",
              "      <td>False</td>\n",
              "      <td>True</td>\n",
              "      <td>False</td>\n",
              "      <td>False</td>\n",
              "      <td>False</td>\n",
              "      <td>False</td>\n",
              "      <td>True</td>\n",
              "      <td>True</td>\n",
              "      <td>False</td>\n",
              "      <td>False</td>\n",
              "      <td>False</td>\n",
              "      <td>False</td>\n",
              "      <td>True</td>\n",
              "      <td>True</td>\n",
              "      <td>False</td>\n",
              "      <td>False</td>\n",
              "      <td>True</td>\n",
              "      <td>False</td>\n",
              "      <td>False</td>\n",
              "      <td>True</td>\n",
              "      <td>False</td>\n",
              "      <td>False</td>\n",
              "      <td>False</td>\n",
              "      <td>False</td>\n",
              "      <td>True</td>\n",
              "      <td>False</td>\n",
              "      <td>False</td>\n",
              "      <td>True</td>\n",
              "      <td>False</td>\n",
              "    </tr>\n",
              "    <tr>\n",
              "      <th>2</th>\n",
              "      <td>0</td>\n",
              "      <td>2</td>\n",
              "      <td>53.85</td>\n",
              "      <td>True</td>\n",
              "      <td>False</td>\n",
              "      <td>False</td>\n",
              "      <td>True</td>\n",
              "      <td>False</td>\n",
              "      <td>False</td>\n",
              "      <td>False</td>\n",
              "      <td>False</td>\n",
              "      <td>True</td>\n",
              "      <td>False</td>\n",
              "      <td>False</td>\n",
              "      <td>True</td>\n",
              "      <td>True</td>\n",
              "      <td>False</td>\n",
              "      <td>False</td>\n",
              "      <td>True</td>\n",
              "      <td>False</td>\n",
              "      <td>False</td>\n",
              "      <td>True</td>\n",
              "      <td>False</td>\n",
              "      <td>False</td>\n",
              "      <td>True</td>\n",
              "      <td>False</td>\n",
              "      <td>False</td>\n",
              "      <td>False</td>\n",
              "      <td>True</td>\n",
              "      <td>False</td>\n",
              "      <td>False</td>\n",
              "      <td>False</td>\n",
              "      <td>True</td>\n",
              "      <td>False</td>\n",
              "    </tr>\n",
              "    <tr>\n",
              "      <th>3</th>\n",
              "      <td>0</td>\n",
              "      <td>45</td>\n",
              "      <td>42.30</td>\n",
              "      <td>False</td>\n",
              "      <td>True</td>\n",
              "      <td>False</td>\n",
              "      <td>True</td>\n",
              "      <td>False</td>\n",
              "      <td>False</td>\n",
              "      <td>False</td>\n",
              "      <td>False</td>\n",
              "      <td>True</td>\n",
              "      <td>True</td>\n",
              "      <td>False</td>\n",
              "      <td>False</td>\n",
              "      <td>False</td>\n",
              "      <td>False</td>\n",
              "      <td>True</td>\n",
              "      <td>False</td>\n",
              "      <td>False</td>\n",
              "      <td>True</td>\n",
              "      <td>True</td>\n",
              "      <td>False</td>\n",
              "      <td>False</td>\n",
              "      <td>True</td>\n",
              "      <td>False</td>\n",
              "      <td>False</td>\n",
              "      <td>False</td>\n",
              "      <td>False</td>\n",
              "      <td>True</td>\n",
              "      <td>False</td>\n",
              "      <td>False</td>\n",
              "      <td>False</td>\n",
              "      <td>True</td>\n",
              "    </tr>\n",
              "    <tr>\n",
              "      <th>4</th>\n",
              "      <td>0</td>\n",
              "      <td>2</td>\n",
              "      <td>70.70</td>\n",
              "      <td>True</td>\n",
              "      <td>False</td>\n",
              "      <td>False</td>\n",
              "      <td>False</td>\n",
              "      <td>True</td>\n",
              "      <td>False</td>\n",
              "      <td>True</td>\n",
              "      <td>False</td>\n",
              "      <td>False</td>\n",
              "      <td>True</td>\n",
              "      <td>False</td>\n",
              "      <td>False</td>\n",
              "      <td>True</td>\n",
              "      <td>False</td>\n",
              "      <td>False</td>\n",
              "      <td>True</td>\n",
              "      <td>False</td>\n",
              "      <td>False</td>\n",
              "      <td>True</td>\n",
              "      <td>False</td>\n",
              "      <td>False</td>\n",
              "      <td>True</td>\n",
              "      <td>False</td>\n",
              "      <td>False</td>\n",
              "      <td>False</td>\n",
              "      <td>True</td>\n",
              "      <td>False</td>\n",
              "      <td>False</td>\n",
              "      <td>True</td>\n",
              "      <td>False</td>\n",
              "      <td>False</td>\n",
              "    </tr>\n",
              "  </tbody>\n",
              "</table>\n",
              "</div>\n",
              "    <div class=\"colab-df-buttons\">\n",
              "\n",
              "  <div class=\"colab-df-container\">\n",
              "    <button class=\"colab-df-convert\" onclick=\"convertToInteractive('df-7680dcd5-1d12-4eb3-8101-1e3c68ab8b26')\"\n",
              "            title=\"Convert this dataframe to an interactive table.\"\n",
              "            style=\"display:none;\">\n",
              "\n",
              "  <svg xmlns=\"http://www.w3.org/2000/svg\" height=\"24px\" viewBox=\"0 -960 960 960\">\n",
              "    <path d=\"M120-120v-720h720v720H120Zm60-500h600v-160H180v160Zm220 220h160v-160H400v160Zm0 220h160v-160H400v160ZM180-400h160v-160H180v160Zm440 0h160v-160H620v160ZM180-180h160v-160H180v160Zm440 0h160v-160H620v160Z\"/>\n",
              "  </svg>\n",
              "    </button>\n",
              "\n",
              "  <style>\n",
              "    .colab-df-container {\n",
              "      display:flex;\n",
              "      gap: 12px;\n",
              "    }\n",
              "\n",
              "    .colab-df-convert {\n",
              "      background-color: #E8F0FE;\n",
              "      border: none;\n",
              "      border-radius: 50%;\n",
              "      cursor: pointer;\n",
              "      display: none;\n",
              "      fill: #1967D2;\n",
              "      height: 32px;\n",
              "      padding: 0 0 0 0;\n",
              "      width: 32px;\n",
              "    }\n",
              "\n",
              "    .colab-df-convert:hover {\n",
              "      background-color: #E2EBFA;\n",
              "      box-shadow: 0px 1px 2px rgba(60, 64, 67, 0.3), 0px 1px 3px 1px rgba(60, 64, 67, 0.15);\n",
              "      fill: #174EA6;\n",
              "    }\n",
              "\n",
              "    .colab-df-buttons div {\n",
              "      margin-bottom: 4px;\n",
              "    }\n",
              "\n",
              "    [theme=dark] .colab-df-convert {\n",
              "      background-color: #3B4455;\n",
              "      fill: #D2E3FC;\n",
              "    }\n",
              "\n",
              "    [theme=dark] .colab-df-convert:hover {\n",
              "      background-color: #434B5C;\n",
              "      box-shadow: 0px 1px 3px 1px rgba(0, 0, 0, 0.15);\n",
              "      filter: drop-shadow(0px 1px 2px rgba(0, 0, 0, 0.3));\n",
              "      fill: #FFFFFF;\n",
              "    }\n",
              "  </style>\n",
              "\n",
              "    <script>\n",
              "      const buttonEl =\n",
              "        document.querySelector('#df-7680dcd5-1d12-4eb3-8101-1e3c68ab8b26 button.colab-df-convert');\n",
              "      buttonEl.style.display =\n",
              "        google.colab.kernel.accessAllowed ? 'block' : 'none';\n",
              "\n",
              "      async function convertToInteractive(key) {\n",
              "        const element = document.querySelector('#df-7680dcd5-1d12-4eb3-8101-1e3c68ab8b26');\n",
              "        const dataTable =\n",
              "          await google.colab.kernel.invokeFunction('convertToInteractive',\n",
              "                                                    [key], {});\n",
              "        if (!dataTable) return;\n",
              "\n",
              "        const docLinkHtml = 'Like what you see? Visit the ' +\n",
              "          '<a target=\"_blank\" href=https://colab.research.google.com/notebooks/data_table.ipynb>data table notebook</a>'\n",
              "          + ' to learn more about interactive tables.';\n",
              "        element.innerHTML = '';\n",
              "        dataTable['output_type'] = 'display_data';\n",
              "        await google.colab.output.renderOutput(dataTable, element);\n",
              "        const docLink = document.createElement('div');\n",
              "        docLink.innerHTML = docLinkHtml;\n",
              "        element.appendChild(docLink);\n",
              "      }\n",
              "    </script>\n",
              "  </div>\n",
              "\n",
              "\n",
              "<div id=\"df-27957307-9bbd-4321-b2fd-d7911bc091ea\">\n",
              "  <button class=\"colab-df-quickchart\" onclick=\"quickchart('df-27957307-9bbd-4321-b2fd-d7911bc091ea')\"\n",
              "            title=\"Suggest charts\"\n",
              "            style=\"display:none;\">\n",
              "\n",
              "<svg xmlns=\"http://www.w3.org/2000/svg\" height=\"24px\"viewBox=\"0 0 24 24\"\n",
              "     width=\"24px\">\n",
              "    <g>\n",
              "        <path d=\"M19 3H5c-1.1 0-2 .9-2 2v14c0 1.1.9 2 2 2h14c1.1 0 2-.9 2-2V5c0-1.1-.9-2-2-2zM9 17H7v-7h2v7zm4 0h-2V7h2v10zm4 0h-2v-4h2v4z\"/>\n",
              "    </g>\n",
              "</svg>\n",
              "  </button>\n",
              "\n",
              "<style>\n",
              "  .colab-df-quickchart {\n",
              "      --bg-color: #E8F0FE;\n",
              "      --fill-color: #1967D2;\n",
              "      --hover-bg-color: #E2EBFA;\n",
              "      --hover-fill-color: #174EA6;\n",
              "      --disabled-fill-color: #AAA;\n",
              "      --disabled-bg-color: #DDD;\n",
              "  }\n",
              "\n",
              "  [theme=dark] .colab-df-quickchart {\n",
              "      --bg-color: #3B4455;\n",
              "      --fill-color: #D2E3FC;\n",
              "      --hover-bg-color: #434B5C;\n",
              "      --hover-fill-color: #FFFFFF;\n",
              "      --disabled-bg-color: #3B4455;\n",
              "      --disabled-fill-color: #666;\n",
              "  }\n",
              "\n",
              "  .colab-df-quickchart {\n",
              "    background-color: var(--bg-color);\n",
              "    border: none;\n",
              "    border-radius: 50%;\n",
              "    cursor: pointer;\n",
              "    display: none;\n",
              "    fill: var(--fill-color);\n",
              "    height: 32px;\n",
              "    padding: 0;\n",
              "    width: 32px;\n",
              "  }\n",
              "\n",
              "  .colab-df-quickchart:hover {\n",
              "    background-color: var(--hover-bg-color);\n",
              "    box-shadow: 0 1px 2px rgba(60, 64, 67, 0.3), 0 1px 3px 1px rgba(60, 64, 67, 0.15);\n",
              "    fill: var(--button-hover-fill-color);\n",
              "  }\n",
              "\n",
              "  .colab-df-quickchart-complete:disabled,\n",
              "  .colab-df-quickchart-complete:disabled:hover {\n",
              "    background-color: var(--disabled-bg-color);\n",
              "    fill: var(--disabled-fill-color);\n",
              "    box-shadow: none;\n",
              "  }\n",
              "\n",
              "  .colab-df-spinner {\n",
              "    border: 2px solid var(--fill-color);\n",
              "    border-color: transparent;\n",
              "    border-bottom-color: var(--fill-color);\n",
              "    animation:\n",
              "      spin 1s steps(1) infinite;\n",
              "  }\n",
              "\n",
              "  @keyframes spin {\n",
              "    0% {\n",
              "      border-color: transparent;\n",
              "      border-bottom-color: var(--fill-color);\n",
              "      border-left-color: var(--fill-color);\n",
              "    }\n",
              "    20% {\n",
              "      border-color: transparent;\n",
              "      border-left-color: var(--fill-color);\n",
              "      border-top-color: var(--fill-color);\n",
              "    }\n",
              "    30% {\n",
              "      border-color: transparent;\n",
              "      border-left-color: var(--fill-color);\n",
              "      border-top-color: var(--fill-color);\n",
              "      border-right-color: var(--fill-color);\n",
              "    }\n",
              "    40% {\n",
              "      border-color: transparent;\n",
              "      border-right-color: var(--fill-color);\n",
              "      border-top-color: var(--fill-color);\n",
              "    }\n",
              "    60% {\n",
              "      border-color: transparent;\n",
              "      border-right-color: var(--fill-color);\n",
              "    }\n",
              "    80% {\n",
              "      border-color: transparent;\n",
              "      border-right-color: var(--fill-color);\n",
              "      border-bottom-color: var(--fill-color);\n",
              "    }\n",
              "    90% {\n",
              "      border-color: transparent;\n",
              "      border-bottom-color: var(--fill-color);\n",
              "    }\n",
              "  }\n",
              "</style>\n",
              "\n",
              "  <script>\n",
              "    async function quickchart(key) {\n",
              "      const quickchartButtonEl =\n",
              "        document.querySelector('#' + key + ' button');\n",
              "      quickchartButtonEl.disabled = true;  // To prevent multiple clicks.\n",
              "      quickchartButtonEl.classList.add('colab-df-spinner');\n",
              "      try {\n",
              "        const charts = await google.colab.kernel.invokeFunction(\n",
              "            'suggestCharts', [key], {});\n",
              "      } catch (error) {\n",
              "        console.error('Error during call to suggestCharts:', error);\n",
              "      }\n",
              "      quickchartButtonEl.classList.remove('colab-df-spinner');\n",
              "      quickchartButtonEl.classList.add('colab-df-quickchart-complete');\n",
              "    }\n",
              "    (() => {\n",
              "      let quickchartButtonEl =\n",
              "        document.querySelector('#df-27957307-9bbd-4321-b2fd-d7911bc091ea button');\n",
              "      quickchartButtonEl.style.display =\n",
              "        google.colab.kernel.accessAllowed ? 'block' : 'none';\n",
              "    })();\n",
              "  </script>\n",
              "</div>\n",
              "\n",
              "    </div>\n",
              "  </div>\n"
            ],
            "application/vnd.google.colaboratory.intrinsic+json": {
              "type": "dataframe",
              "variable_name": "dummie_dados"
            }
          },
          "metadata": {},
          "execution_count": 88
        }
      ]
    },
    {
      "cell_type": "code",
      "source": [
        "#Concatenando os dados\n",
        "dados_final = pd.concat([dados_binarios, dummie_dados], axis=1)\n",
        "dados_final.head()"
      ],
      "metadata": {
        "colab": {
          "base_uri": "https://localhost:8080/"
        },
        "id": "a3-k9emlkLFg",
        "outputId": "fccc6ed0-30ab-487e-b67c-ba3c9ab52eb8"
      },
      "execution_count": null,
      "outputs": [
        {
          "output_type": "execute_result",
          "data": {
            "text/plain": [
              "   Conjuge  Dependentes  TelefoneFixo  PagamentoOnline  Churn  Maior65Anos  \\\n",
              "0        1            0             0                1      0            0   \n",
              "1        0            0             1                0      0            0   \n",
              "2        0            0             1                1      1            0   \n",
              "3        0            0             0                0      0            0   \n",
              "4        0            0             1                1      1            0   \n",
              "\n",
              "   MesesDeContrato  ContaMensal  VariasLinhasTelefonicas_Nao  \\\n",
              "0                1        29.85                        False   \n",
              "1               34        56.95                         True   \n",
              "2                2        53.85                         True   \n",
              "3               45        42.30                        False   \n",
              "4                2        70.70                         True   \n",
              "\n",
              "   VariasLinhasTelefonicas_SemServicoTelefonico  VariasLinhasTelefonicas_Sim  \\\n",
              "0                                          True                        False   \n",
              "1                                         False                        False   \n",
              "2                                         False                        False   \n",
              "3                                          True                        False   \n",
              "4                                         False                        False   \n",
              "\n",
              "   ServicoDeInternet_DSL  ServicoDeInternet_FibraOptica  \\\n",
              "0                   True                          False   \n",
              "1                   True                          False   \n",
              "2                   True                          False   \n",
              "3                   True                          False   \n",
              "4                  False                           True   \n",
              "\n",
              "   ServicoDeInternet_Nao  SegurancaOnline_Nao  \\\n",
              "0                  False                 True   \n",
              "1                  False                False   \n",
              "2                  False                False   \n",
              "3                  False                False   \n",
              "4                  False                 True   \n",
              "\n",
              "   SegurancaOnline_SemServicoDeInternet  SegurancaOnline_Sim  \\\n",
              "0                                 False                False   \n",
              "1                                 False                 True   \n",
              "2                                 False                 True   \n",
              "3                                 False                 True   \n",
              "4                                 False                False   \n",
              "\n",
              "   BackupOnline_Nao  BackupOnline_SemServicoDeInternet  BackupOnline_Sim  \\\n",
              "0             False                              False              True   \n",
              "1              True                              False             False   \n",
              "2             False                              False              True   \n",
              "3              True                              False             False   \n",
              "4              True                              False             False   \n",
              "\n",
              "   SeguroNoDispositivo_Nao  SeguroNoDispositivo_SemServicoDeInternet  \\\n",
              "0                     True                                     False   \n",
              "1                    False                                     False   \n",
              "2                     True                                     False   \n",
              "3                    False                                     False   \n",
              "4                     True                                     False   \n",
              "\n",
              "   SeguroNoDispositivo_Sim  SuporteTecnico_Nao  \\\n",
              "0                    False                True   \n",
              "1                     True                True   \n",
              "2                    False                True   \n",
              "3                     True               False   \n",
              "4                    False                True   \n",
              "\n",
              "   SuporteTecnico_SemServicoDeInternet  SuporteTecnico_Sim  TVaCabo_Nao  \\\n",
              "0                                False               False         True   \n",
              "1                                False               False         True   \n",
              "2                                False               False         True   \n",
              "3                                False                True         True   \n",
              "4                                False               False         True   \n",
              "\n",
              "   TVaCabo_SemServicoDeInternet  TVaCabo_Sim  StreamingDeFilmes_Nao  \\\n",
              "0                         False        False                   True   \n",
              "1                         False        False                   True   \n",
              "2                         False        False                   True   \n",
              "3                         False        False                   True   \n",
              "4                         False        False                   True   \n",
              "\n",
              "   StreamingDeFilmes_SemServicoDeInternet  StreamingDeFilmes_Sim  \\\n",
              "0                                   False                  False   \n",
              "1                                   False                  False   \n",
              "2                                   False                  False   \n",
              "3                                   False                  False   \n",
              "4                                   False                  False   \n",
              "\n",
              "   TipoDeContrato_DoisAnos  TipoDeContrato_Mensalmente  TipoDeContrato_UmAno  \\\n",
              "0                    False                        True                 False   \n",
              "1                    False                       False                  True   \n",
              "2                    False                        True                 False   \n",
              "3                    False                       False                  True   \n",
              "4                    False                        True                 False   \n",
              "\n",
              "   FormaDePagamento_CartaoDeCredito  FormaDePagamento_ChequeDigital  \\\n",
              "0                             False                            True   \n",
              "1                             False                           False   \n",
              "2                             False                           False   \n",
              "3                             False                           False   \n",
              "4                             False                            True   \n",
              "\n",
              "   FormaDePagamento_ChequePapel  FormaDePagamento_DebitoEmConta  \n",
              "0                         False                           False  \n",
              "1                          True                           False  \n",
              "2                          True                           False  \n",
              "3                         False                            True  \n",
              "4                         False                           False  "
            ],
            "text/html": [
              "\n",
              "  <div id=\"df-9907ad73-000f-4a9a-b669-d4894b60d7b6\" class=\"colab-df-container\">\n",
              "    <div>\n",
              "<style scoped>\n",
              "    .dataframe tbody tr th:only-of-type {\n",
              "        vertical-align: middle;\n",
              "    }\n",
              "\n",
              "    .dataframe tbody tr th {\n",
              "        vertical-align: top;\n",
              "    }\n",
              "\n",
              "    .dataframe thead th {\n",
              "        text-align: right;\n",
              "    }\n",
              "</style>\n",
              "<table border=\"1\" class=\"dataframe\">\n",
              "  <thead>\n",
              "    <tr style=\"text-align: right;\">\n",
              "      <th></th>\n",
              "      <th>Conjuge</th>\n",
              "      <th>Dependentes</th>\n",
              "      <th>TelefoneFixo</th>\n",
              "      <th>PagamentoOnline</th>\n",
              "      <th>Churn</th>\n",
              "      <th>Maior65Anos</th>\n",
              "      <th>MesesDeContrato</th>\n",
              "      <th>ContaMensal</th>\n",
              "      <th>VariasLinhasTelefonicas_Nao</th>\n",
              "      <th>VariasLinhasTelefonicas_SemServicoTelefonico</th>\n",
              "      <th>VariasLinhasTelefonicas_Sim</th>\n",
              "      <th>ServicoDeInternet_DSL</th>\n",
              "      <th>ServicoDeInternet_FibraOptica</th>\n",
              "      <th>ServicoDeInternet_Nao</th>\n",
              "      <th>SegurancaOnline_Nao</th>\n",
              "      <th>SegurancaOnline_SemServicoDeInternet</th>\n",
              "      <th>SegurancaOnline_Sim</th>\n",
              "      <th>BackupOnline_Nao</th>\n",
              "      <th>BackupOnline_SemServicoDeInternet</th>\n",
              "      <th>BackupOnline_Sim</th>\n",
              "      <th>SeguroNoDispositivo_Nao</th>\n",
              "      <th>SeguroNoDispositivo_SemServicoDeInternet</th>\n",
              "      <th>SeguroNoDispositivo_Sim</th>\n",
              "      <th>SuporteTecnico_Nao</th>\n",
              "      <th>SuporteTecnico_SemServicoDeInternet</th>\n",
              "      <th>SuporteTecnico_Sim</th>\n",
              "      <th>TVaCabo_Nao</th>\n",
              "      <th>TVaCabo_SemServicoDeInternet</th>\n",
              "      <th>TVaCabo_Sim</th>\n",
              "      <th>StreamingDeFilmes_Nao</th>\n",
              "      <th>StreamingDeFilmes_SemServicoDeInternet</th>\n",
              "      <th>StreamingDeFilmes_Sim</th>\n",
              "      <th>TipoDeContrato_DoisAnos</th>\n",
              "      <th>TipoDeContrato_Mensalmente</th>\n",
              "      <th>TipoDeContrato_UmAno</th>\n",
              "      <th>FormaDePagamento_CartaoDeCredito</th>\n",
              "      <th>FormaDePagamento_ChequeDigital</th>\n",
              "      <th>FormaDePagamento_ChequePapel</th>\n",
              "      <th>FormaDePagamento_DebitoEmConta</th>\n",
              "    </tr>\n",
              "  </thead>\n",
              "  <tbody>\n",
              "    <tr>\n",
              "      <th>0</th>\n",
              "      <td>1</td>\n",
              "      <td>0</td>\n",
              "      <td>0</td>\n",
              "      <td>1</td>\n",
              "      <td>0</td>\n",
              "      <td>0</td>\n",
              "      <td>1</td>\n",
              "      <td>29.85</td>\n",
              "      <td>False</td>\n",
              "      <td>True</td>\n",
              "      <td>False</td>\n",
              "      <td>True</td>\n",
              "      <td>False</td>\n",
              "      <td>False</td>\n",
              "      <td>True</td>\n",
              "      <td>False</td>\n",
              "      <td>False</td>\n",
              "      <td>False</td>\n",
              "      <td>False</td>\n",
              "      <td>True</td>\n",
              "      <td>True</td>\n",
              "      <td>False</td>\n",
              "      <td>False</td>\n",
              "      <td>True</td>\n",
              "      <td>False</td>\n",
              "      <td>False</td>\n",
              "      <td>True</td>\n",
              "      <td>False</td>\n",
              "      <td>False</td>\n",
              "      <td>True</td>\n",
              "      <td>False</td>\n",
              "      <td>False</td>\n",
              "      <td>False</td>\n",
              "      <td>True</td>\n",
              "      <td>False</td>\n",
              "      <td>False</td>\n",
              "      <td>True</td>\n",
              "      <td>False</td>\n",
              "      <td>False</td>\n",
              "    </tr>\n",
              "    <tr>\n",
              "      <th>1</th>\n",
              "      <td>0</td>\n",
              "      <td>0</td>\n",
              "      <td>1</td>\n",
              "      <td>0</td>\n",
              "      <td>0</td>\n",
              "      <td>0</td>\n",
              "      <td>34</td>\n",
              "      <td>56.95</td>\n",
              "      <td>True</td>\n",
              "      <td>False</td>\n",
              "      <td>False</td>\n",
              "      <td>True</td>\n",
              "      <td>False</td>\n",
              "      <td>False</td>\n",
              "      <td>False</td>\n",
              "      <td>False</td>\n",
              "      <td>True</td>\n",
              "      <td>True</td>\n",
              "      <td>False</td>\n",
              "      <td>False</td>\n",
              "      <td>False</td>\n",
              "      <td>False</td>\n",
              "      <td>True</td>\n",
              "      <td>True</td>\n",
              "      <td>False</td>\n",
              "      <td>False</td>\n",
              "      <td>True</td>\n",
              "      <td>False</td>\n",
              "      <td>False</td>\n",
              "      <td>True</td>\n",
              "      <td>False</td>\n",
              "      <td>False</td>\n",
              "      <td>False</td>\n",
              "      <td>False</td>\n",
              "      <td>True</td>\n",
              "      <td>False</td>\n",
              "      <td>False</td>\n",
              "      <td>True</td>\n",
              "      <td>False</td>\n",
              "    </tr>\n",
              "    <tr>\n",
              "      <th>2</th>\n",
              "      <td>0</td>\n",
              "      <td>0</td>\n",
              "      <td>1</td>\n",
              "      <td>1</td>\n",
              "      <td>1</td>\n",
              "      <td>0</td>\n",
              "      <td>2</td>\n",
              "      <td>53.85</td>\n",
              "      <td>True</td>\n",
              "      <td>False</td>\n",
              "      <td>False</td>\n",
              "      <td>True</td>\n",
              "      <td>False</td>\n",
              "      <td>False</td>\n",
              "      <td>False</td>\n",
              "      <td>False</td>\n",
              "      <td>True</td>\n",
              "      <td>False</td>\n",
              "      <td>False</td>\n",
              "      <td>True</td>\n",
              "      <td>True</td>\n",
              "      <td>False</td>\n",
              "      <td>False</td>\n",
              "      <td>True</td>\n",
              "      <td>False</td>\n",
              "      <td>False</td>\n",
              "      <td>True</td>\n",
              "      <td>False</td>\n",
              "      <td>False</td>\n",
              "      <td>True</td>\n",
              "      <td>False</td>\n",
              "      <td>False</td>\n",
              "      <td>False</td>\n",
              "      <td>True</td>\n",
              "      <td>False</td>\n",
              "      <td>False</td>\n",
              "      <td>False</td>\n",
              "      <td>True</td>\n",
              "      <td>False</td>\n",
              "    </tr>\n",
              "    <tr>\n",
              "      <th>3</th>\n",
              "      <td>0</td>\n",
              "      <td>0</td>\n",
              "      <td>0</td>\n",
              "      <td>0</td>\n",
              "      <td>0</td>\n",
              "      <td>0</td>\n",
              "      <td>45</td>\n",
              "      <td>42.30</td>\n",
              "      <td>False</td>\n",
              "      <td>True</td>\n",
              "      <td>False</td>\n",
              "      <td>True</td>\n",
              "      <td>False</td>\n",
              "      <td>False</td>\n",
              "      <td>False</td>\n",
              "      <td>False</td>\n",
              "      <td>True</td>\n",
              "      <td>True</td>\n",
              "      <td>False</td>\n",
              "      <td>False</td>\n",
              "      <td>False</td>\n",
              "      <td>False</td>\n",
              "      <td>True</td>\n",
              "      <td>False</td>\n",
              "      <td>False</td>\n",
              "      <td>True</td>\n",
              "      <td>True</td>\n",
              "      <td>False</td>\n",
              "      <td>False</td>\n",
              "      <td>True</td>\n",
              "      <td>False</td>\n",
              "      <td>False</td>\n",
              "      <td>False</td>\n",
              "      <td>False</td>\n",
              "      <td>True</td>\n",
              "      <td>False</td>\n",
              "      <td>False</td>\n",
              "      <td>False</td>\n",
              "      <td>True</td>\n",
              "    </tr>\n",
              "    <tr>\n",
              "      <th>4</th>\n",
              "      <td>0</td>\n",
              "      <td>0</td>\n",
              "      <td>1</td>\n",
              "      <td>1</td>\n",
              "      <td>1</td>\n",
              "      <td>0</td>\n",
              "      <td>2</td>\n",
              "      <td>70.70</td>\n",
              "      <td>True</td>\n",
              "      <td>False</td>\n",
              "      <td>False</td>\n",
              "      <td>False</td>\n",
              "      <td>True</td>\n",
              "      <td>False</td>\n",
              "      <td>True</td>\n",
              "      <td>False</td>\n",
              "      <td>False</td>\n",
              "      <td>True</td>\n",
              "      <td>False</td>\n",
              "      <td>False</td>\n",
              "      <td>True</td>\n",
              "      <td>False</td>\n",
              "      <td>False</td>\n",
              "      <td>True</td>\n",
              "      <td>False</td>\n",
              "      <td>False</td>\n",
              "      <td>True</td>\n",
              "      <td>False</td>\n",
              "      <td>False</td>\n",
              "      <td>True</td>\n",
              "      <td>False</td>\n",
              "      <td>False</td>\n",
              "      <td>False</td>\n",
              "      <td>True</td>\n",
              "      <td>False</td>\n",
              "      <td>False</td>\n",
              "      <td>True</td>\n",
              "      <td>False</td>\n",
              "      <td>False</td>\n",
              "    </tr>\n",
              "  </tbody>\n",
              "</table>\n",
              "</div>\n",
              "    <div class=\"colab-df-buttons\">\n",
              "\n",
              "  <div class=\"colab-df-container\">\n",
              "    <button class=\"colab-df-convert\" onclick=\"convertToInteractive('df-9907ad73-000f-4a9a-b669-d4894b60d7b6')\"\n",
              "            title=\"Convert this dataframe to an interactive table.\"\n",
              "            style=\"display:none;\">\n",
              "\n",
              "  <svg xmlns=\"http://www.w3.org/2000/svg\" height=\"24px\" viewBox=\"0 -960 960 960\">\n",
              "    <path d=\"M120-120v-720h720v720H120Zm60-500h600v-160H180v160Zm220 220h160v-160H400v160Zm0 220h160v-160H400v160ZM180-400h160v-160H180v160Zm440 0h160v-160H620v160ZM180-180h160v-160H180v160Zm440 0h160v-160H620v160Z\"/>\n",
              "  </svg>\n",
              "    </button>\n",
              "\n",
              "  <style>\n",
              "    .colab-df-container {\n",
              "      display:flex;\n",
              "      gap: 12px;\n",
              "    }\n",
              "\n",
              "    .colab-df-convert {\n",
              "      background-color: #E8F0FE;\n",
              "      border: none;\n",
              "      border-radius: 50%;\n",
              "      cursor: pointer;\n",
              "      display: none;\n",
              "      fill: #1967D2;\n",
              "      height: 32px;\n",
              "      padding: 0 0 0 0;\n",
              "      width: 32px;\n",
              "    }\n",
              "\n",
              "    .colab-df-convert:hover {\n",
              "      background-color: #E2EBFA;\n",
              "      box-shadow: 0px 1px 2px rgba(60, 64, 67, 0.3), 0px 1px 3px 1px rgba(60, 64, 67, 0.15);\n",
              "      fill: #174EA6;\n",
              "    }\n",
              "\n",
              "    .colab-df-buttons div {\n",
              "      margin-bottom: 4px;\n",
              "    }\n",
              "\n",
              "    [theme=dark] .colab-df-convert {\n",
              "      background-color: #3B4455;\n",
              "      fill: #D2E3FC;\n",
              "    }\n",
              "\n",
              "    [theme=dark] .colab-df-convert:hover {\n",
              "      background-color: #434B5C;\n",
              "      box-shadow: 0px 1px 3px 1px rgba(0, 0, 0, 0.15);\n",
              "      filter: drop-shadow(0px 1px 2px rgba(0, 0, 0, 0.3));\n",
              "      fill: #FFFFFF;\n",
              "    }\n",
              "  </style>\n",
              "\n",
              "    <script>\n",
              "      const buttonEl =\n",
              "        document.querySelector('#df-9907ad73-000f-4a9a-b669-d4894b60d7b6 button.colab-df-convert');\n",
              "      buttonEl.style.display =\n",
              "        google.colab.kernel.accessAllowed ? 'block' : 'none';\n",
              "\n",
              "      async function convertToInteractive(key) {\n",
              "        const element = document.querySelector('#df-9907ad73-000f-4a9a-b669-d4894b60d7b6');\n",
              "        const dataTable =\n",
              "          await google.colab.kernel.invokeFunction('convertToInteractive',\n",
              "                                                    [key], {});\n",
              "        if (!dataTable) return;\n",
              "\n",
              "        const docLinkHtml = 'Like what you see? Visit the ' +\n",
              "          '<a target=\"_blank\" href=https://colab.research.google.com/notebooks/data_table.ipynb>data table notebook</a>'\n",
              "          + ' to learn more about interactive tables.';\n",
              "        element.innerHTML = '';\n",
              "        dataTable['output_type'] = 'display_data';\n",
              "        await google.colab.output.renderOutput(dataTable, element);\n",
              "        const docLink = document.createElement('div');\n",
              "        docLink.innerHTML = docLinkHtml;\n",
              "        element.appendChild(docLink);\n",
              "      }\n",
              "    </script>\n",
              "  </div>\n",
              "\n",
              "\n",
              "<div id=\"df-b57f6397-855a-4974-a65c-f90459ba3b1d\">\n",
              "  <button class=\"colab-df-quickchart\" onclick=\"quickchart('df-b57f6397-855a-4974-a65c-f90459ba3b1d')\"\n",
              "            title=\"Suggest charts\"\n",
              "            style=\"display:none;\">\n",
              "\n",
              "<svg xmlns=\"http://www.w3.org/2000/svg\" height=\"24px\"viewBox=\"0 0 24 24\"\n",
              "     width=\"24px\">\n",
              "    <g>\n",
              "        <path d=\"M19 3H5c-1.1 0-2 .9-2 2v14c0 1.1.9 2 2 2h14c1.1 0 2-.9 2-2V5c0-1.1-.9-2-2-2zM9 17H7v-7h2v7zm4 0h-2V7h2v10zm4 0h-2v-4h2v4z\"/>\n",
              "    </g>\n",
              "</svg>\n",
              "  </button>\n",
              "\n",
              "<style>\n",
              "  .colab-df-quickchart {\n",
              "      --bg-color: #E8F0FE;\n",
              "      --fill-color: #1967D2;\n",
              "      --hover-bg-color: #E2EBFA;\n",
              "      --hover-fill-color: #174EA6;\n",
              "      --disabled-fill-color: #AAA;\n",
              "      --disabled-bg-color: #DDD;\n",
              "  }\n",
              "\n",
              "  [theme=dark] .colab-df-quickchart {\n",
              "      --bg-color: #3B4455;\n",
              "      --fill-color: #D2E3FC;\n",
              "      --hover-bg-color: #434B5C;\n",
              "      --hover-fill-color: #FFFFFF;\n",
              "      --disabled-bg-color: #3B4455;\n",
              "      --disabled-fill-color: #666;\n",
              "  }\n",
              "\n",
              "  .colab-df-quickchart {\n",
              "    background-color: var(--bg-color);\n",
              "    border: none;\n",
              "    border-radius: 50%;\n",
              "    cursor: pointer;\n",
              "    display: none;\n",
              "    fill: var(--fill-color);\n",
              "    height: 32px;\n",
              "    padding: 0;\n",
              "    width: 32px;\n",
              "  }\n",
              "\n",
              "  .colab-df-quickchart:hover {\n",
              "    background-color: var(--hover-bg-color);\n",
              "    box-shadow: 0 1px 2px rgba(60, 64, 67, 0.3), 0 1px 3px 1px rgba(60, 64, 67, 0.15);\n",
              "    fill: var(--button-hover-fill-color);\n",
              "  }\n",
              "\n",
              "  .colab-df-quickchart-complete:disabled,\n",
              "  .colab-df-quickchart-complete:disabled:hover {\n",
              "    background-color: var(--disabled-bg-color);\n",
              "    fill: var(--disabled-fill-color);\n",
              "    box-shadow: none;\n",
              "  }\n",
              "\n",
              "  .colab-df-spinner {\n",
              "    border: 2px solid var(--fill-color);\n",
              "    border-color: transparent;\n",
              "    border-bottom-color: var(--fill-color);\n",
              "    animation:\n",
              "      spin 1s steps(1) infinite;\n",
              "  }\n",
              "\n",
              "  @keyframes spin {\n",
              "    0% {\n",
              "      border-color: transparent;\n",
              "      border-bottom-color: var(--fill-color);\n",
              "      border-left-color: var(--fill-color);\n",
              "    }\n",
              "    20% {\n",
              "      border-color: transparent;\n",
              "      border-left-color: var(--fill-color);\n",
              "      border-top-color: var(--fill-color);\n",
              "    }\n",
              "    30% {\n",
              "      border-color: transparent;\n",
              "      border-left-color: var(--fill-color);\n",
              "      border-top-color: var(--fill-color);\n",
              "      border-right-color: var(--fill-color);\n",
              "    }\n",
              "    40% {\n",
              "      border-color: transparent;\n",
              "      border-right-color: var(--fill-color);\n",
              "      border-top-color: var(--fill-color);\n",
              "    }\n",
              "    60% {\n",
              "      border-color: transparent;\n",
              "      border-right-color: var(--fill-color);\n",
              "    }\n",
              "    80% {\n",
              "      border-color: transparent;\n",
              "      border-right-color: var(--fill-color);\n",
              "      border-bottom-color: var(--fill-color);\n",
              "    }\n",
              "    90% {\n",
              "      border-color: transparent;\n",
              "      border-bottom-color: var(--fill-color);\n",
              "    }\n",
              "  }\n",
              "</style>\n",
              "\n",
              "  <script>\n",
              "    async function quickchart(key) {\n",
              "      const quickchartButtonEl =\n",
              "        document.querySelector('#' + key + ' button');\n",
              "      quickchartButtonEl.disabled = true;  // To prevent multiple clicks.\n",
              "      quickchartButtonEl.classList.add('colab-df-spinner');\n",
              "      try {\n",
              "        const charts = await google.colab.kernel.invokeFunction(\n",
              "            'suggestCharts', [key], {});\n",
              "      } catch (error) {\n",
              "        console.error('Error during call to suggestCharts:', error);\n",
              "      }\n",
              "      quickchartButtonEl.classList.remove('colab-df-spinner');\n",
              "      quickchartButtonEl.classList.add('colab-df-quickchart-complete');\n",
              "    }\n",
              "    (() => {\n",
              "      let quickchartButtonEl =\n",
              "        document.querySelector('#df-b57f6397-855a-4974-a65c-f90459ba3b1d button');\n",
              "      quickchartButtonEl.style.display =\n",
              "        google.colab.kernel.accessAllowed ? 'block' : 'none';\n",
              "    })();\n",
              "  </script>\n",
              "</div>\n",
              "\n",
              "    </div>\n",
              "  </div>\n"
            ],
            "application/vnd.google.colaboratory.intrinsic+json": {
              "type": "dataframe",
              "variable_name": "dados_final"
            }
          },
          "metadata": {},
          "execution_count": 89
        }
      ]
    },
    {
      "cell_type": "markdown",
      "source": [
        "## 1.3 - Definição Formal"
      ],
      "metadata": {
        "id": "D1YLHA3h37s1"
      }
    },
    {
      "cell_type": "markdown",
      "source": [
        "Informações para classificação:\n",
        "\n",
        "$X$ = inputs (dados de entrada)\n",
        "\n",
        "$y$ = outputs (dados de saída)"
      ],
      "metadata": {
        "id": "sSgnt7QWM5rm"
      }
    },
    {
      "cell_type": "code",
      "source": [
        "#DICA\n",
        "pd.set_option('display.max_columns', 39)"
      ],
      "metadata": {
        "id": "k_o0S4UyOqzd"
      },
      "execution_count": null,
      "outputs": []
    },
    {
      "cell_type": "code",
      "source": [
        "dados_final.head()"
      ],
      "metadata": {
        "id": "oiHVlSC737NE",
        "colab": {
          "base_uri": "https://localhost:8080/"
        },
        "outputId": "216e86f0-acdc-4c57-e9ef-c3c2fee7c4dc"
      },
      "execution_count": null,
      "outputs": [
        {
          "output_type": "execute_result",
          "data": {
            "text/plain": [
              "   Conjuge  Dependentes  TelefoneFixo  PagamentoOnline  Churn  Maior65Anos  \\\n",
              "0        1            0             0                1      0            0   \n",
              "1        0            0             1                0      0            0   \n",
              "2        0            0             1                1      1            0   \n",
              "3        0            0             0                0      0            0   \n",
              "4        0            0             1                1      1            0   \n",
              "\n",
              "   MesesDeContrato  ContaMensal  VariasLinhasTelefonicas_Nao  \\\n",
              "0                1        29.85                        False   \n",
              "1               34        56.95                         True   \n",
              "2                2        53.85                         True   \n",
              "3               45        42.30                        False   \n",
              "4                2        70.70                         True   \n",
              "\n",
              "   VariasLinhasTelefonicas_SemServicoTelefonico  VariasLinhasTelefonicas_Sim  \\\n",
              "0                                          True                        False   \n",
              "1                                         False                        False   \n",
              "2                                         False                        False   \n",
              "3                                          True                        False   \n",
              "4                                         False                        False   \n",
              "\n",
              "   ServicoDeInternet_DSL  ServicoDeInternet_FibraOptica  \\\n",
              "0                   True                          False   \n",
              "1                   True                          False   \n",
              "2                   True                          False   \n",
              "3                   True                          False   \n",
              "4                  False                           True   \n",
              "\n",
              "   ServicoDeInternet_Nao  SegurancaOnline_Nao  \\\n",
              "0                  False                 True   \n",
              "1                  False                False   \n",
              "2                  False                False   \n",
              "3                  False                False   \n",
              "4                  False                 True   \n",
              "\n",
              "   SegurancaOnline_SemServicoDeInternet  SegurancaOnline_Sim  \\\n",
              "0                                 False                False   \n",
              "1                                 False                 True   \n",
              "2                                 False                 True   \n",
              "3                                 False                 True   \n",
              "4                                 False                False   \n",
              "\n",
              "   BackupOnline_Nao  BackupOnline_SemServicoDeInternet  BackupOnline_Sim  \\\n",
              "0             False                              False              True   \n",
              "1              True                              False             False   \n",
              "2             False                              False              True   \n",
              "3              True                              False             False   \n",
              "4              True                              False             False   \n",
              "\n",
              "   SeguroNoDispositivo_Nao  SeguroNoDispositivo_SemServicoDeInternet  \\\n",
              "0                     True                                     False   \n",
              "1                    False                                     False   \n",
              "2                     True                                     False   \n",
              "3                    False                                     False   \n",
              "4                     True                                     False   \n",
              "\n",
              "   SeguroNoDispositivo_Sim  SuporteTecnico_Nao  \\\n",
              "0                    False                True   \n",
              "1                     True                True   \n",
              "2                    False                True   \n",
              "3                     True               False   \n",
              "4                    False                True   \n",
              "\n",
              "   SuporteTecnico_SemServicoDeInternet  SuporteTecnico_Sim  TVaCabo_Nao  \\\n",
              "0                                False               False         True   \n",
              "1                                False               False         True   \n",
              "2                                False               False         True   \n",
              "3                                False                True         True   \n",
              "4                                False               False         True   \n",
              "\n",
              "   TVaCabo_SemServicoDeInternet  TVaCabo_Sim  StreamingDeFilmes_Nao  \\\n",
              "0                         False        False                   True   \n",
              "1                         False        False                   True   \n",
              "2                         False        False                   True   \n",
              "3                         False        False                   True   \n",
              "4                         False        False                   True   \n",
              "\n",
              "   StreamingDeFilmes_SemServicoDeInternet  StreamingDeFilmes_Sim  \\\n",
              "0                                   False                  False   \n",
              "1                                   False                  False   \n",
              "2                                   False                  False   \n",
              "3                                   False                  False   \n",
              "4                                   False                  False   \n",
              "\n",
              "   TipoDeContrato_DoisAnos  TipoDeContrato_Mensalmente  TipoDeContrato_UmAno  \\\n",
              "0                    False                        True                 False   \n",
              "1                    False                       False                  True   \n",
              "2                    False                        True                 False   \n",
              "3                    False                       False                  True   \n",
              "4                    False                        True                 False   \n",
              "\n",
              "   FormaDePagamento_CartaoDeCredito  FormaDePagamento_ChequeDigital  \\\n",
              "0                             False                            True   \n",
              "1                             False                           False   \n",
              "2                             False                           False   \n",
              "3                             False                           False   \n",
              "4                             False                            True   \n",
              "\n",
              "   FormaDePagamento_ChequePapel  FormaDePagamento_DebitoEmConta  \n",
              "0                         False                           False  \n",
              "1                          True                           False  \n",
              "2                          True                           False  \n",
              "3                         False                            True  \n",
              "4                         False                           False  "
            ],
            "text/html": [
              "\n",
              "  <div id=\"df-8e22056a-3e30-4793-9a7c-fe08cad61918\" class=\"colab-df-container\">\n",
              "    <div>\n",
              "<style scoped>\n",
              "    .dataframe tbody tr th:only-of-type {\n",
              "        vertical-align: middle;\n",
              "    }\n",
              "\n",
              "    .dataframe tbody tr th {\n",
              "        vertical-align: top;\n",
              "    }\n",
              "\n",
              "    .dataframe thead th {\n",
              "        text-align: right;\n",
              "    }\n",
              "</style>\n",
              "<table border=\"1\" class=\"dataframe\">\n",
              "  <thead>\n",
              "    <tr style=\"text-align: right;\">\n",
              "      <th></th>\n",
              "      <th>Conjuge</th>\n",
              "      <th>Dependentes</th>\n",
              "      <th>TelefoneFixo</th>\n",
              "      <th>PagamentoOnline</th>\n",
              "      <th>Churn</th>\n",
              "      <th>Maior65Anos</th>\n",
              "      <th>MesesDeContrato</th>\n",
              "      <th>ContaMensal</th>\n",
              "      <th>VariasLinhasTelefonicas_Nao</th>\n",
              "      <th>VariasLinhasTelefonicas_SemServicoTelefonico</th>\n",
              "      <th>VariasLinhasTelefonicas_Sim</th>\n",
              "      <th>ServicoDeInternet_DSL</th>\n",
              "      <th>ServicoDeInternet_FibraOptica</th>\n",
              "      <th>ServicoDeInternet_Nao</th>\n",
              "      <th>SegurancaOnline_Nao</th>\n",
              "      <th>SegurancaOnline_SemServicoDeInternet</th>\n",
              "      <th>SegurancaOnline_Sim</th>\n",
              "      <th>BackupOnline_Nao</th>\n",
              "      <th>BackupOnline_SemServicoDeInternet</th>\n",
              "      <th>BackupOnline_Sim</th>\n",
              "      <th>SeguroNoDispositivo_Nao</th>\n",
              "      <th>SeguroNoDispositivo_SemServicoDeInternet</th>\n",
              "      <th>SeguroNoDispositivo_Sim</th>\n",
              "      <th>SuporteTecnico_Nao</th>\n",
              "      <th>SuporteTecnico_SemServicoDeInternet</th>\n",
              "      <th>SuporteTecnico_Sim</th>\n",
              "      <th>TVaCabo_Nao</th>\n",
              "      <th>TVaCabo_SemServicoDeInternet</th>\n",
              "      <th>TVaCabo_Sim</th>\n",
              "      <th>StreamingDeFilmes_Nao</th>\n",
              "      <th>StreamingDeFilmes_SemServicoDeInternet</th>\n",
              "      <th>StreamingDeFilmes_Sim</th>\n",
              "      <th>TipoDeContrato_DoisAnos</th>\n",
              "      <th>TipoDeContrato_Mensalmente</th>\n",
              "      <th>TipoDeContrato_UmAno</th>\n",
              "      <th>FormaDePagamento_CartaoDeCredito</th>\n",
              "      <th>FormaDePagamento_ChequeDigital</th>\n",
              "      <th>FormaDePagamento_ChequePapel</th>\n",
              "      <th>FormaDePagamento_DebitoEmConta</th>\n",
              "    </tr>\n",
              "  </thead>\n",
              "  <tbody>\n",
              "    <tr>\n",
              "      <th>0</th>\n",
              "      <td>1</td>\n",
              "      <td>0</td>\n",
              "      <td>0</td>\n",
              "      <td>1</td>\n",
              "      <td>0</td>\n",
              "      <td>0</td>\n",
              "      <td>1</td>\n",
              "      <td>29.85</td>\n",
              "      <td>False</td>\n",
              "      <td>True</td>\n",
              "      <td>False</td>\n",
              "      <td>True</td>\n",
              "      <td>False</td>\n",
              "      <td>False</td>\n",
              "      <td>True</td>\n",
              "      <td>False</td>\n",
              "      <td>False</td>\n",
              "      <td>False</td>\n",
              "      <td>False</td>\n",
              "      <td>True</td>\n",
              "      <td>True</td>\n",
              "      <td>False</td>\n",
              "      <td>False</td>\n",
              "      <td>True</td>\n",
              "      <td>False</td>\n",
              "      <td>False</td>\n",
              "      <td>True</td>\n",
              "      <td>False</td>\n",
              "      <td>False</td>\n",
              "      <td>True</td>\n",
              "      <td>False</td>\n",
              "      <td>False</td>\n",
              "      <td>False</td>\n",
              "      <td>True</td>\n",
              "      <td>False</td>\n",
              "      <td>False</td>\n",
              "      <td>True</td>\n",
              "      <td>False</td>\n",
              "      <td>False</td>\n",
              "    </tr>\n",
              "    <tr>\n",
              "      <th>1</th>\n",
              "      <td>0</td>\n",
              "      <td>0</td>\n",
              "      <td>1</td>\n",
              "      <td>0</td>\n",
              "      <td>0</td>\n",
              "      <td>0</td>\n",
              "      <td>34</td>\n",
              "      <td>56.95</td>\n",
              "      <td>True</td>\n",
              "      <td>False</td>\n",
              "      <td>False</td>\n",
              "      <td>True</td>\n",
              "      <td>False</td>\n",
              "      <td>False</td>\n",
              "      <td>False</td>\n",
              "      <td>False</td>\n",
              "      <td>True</td>\n",
              "      <td>True</td>\n",
              "      <td>False</td>\n",
              "      <td>False</td>\n",
              "      <td>False</td>\n",
              "      <td>False</td>\n",
              "      <td>True</td>\n",
              "      <td>True</td>\n",
              "      <td>False</td>\n",
              "      <td>False</td>\n",
              "      <td>True</td>\n",
              "      <td>False</td>\n",
              "      <td>False</td>\n",
              "      <td>True</td>\n",
              "      <td>False</td>\n",
              "      <td>False</td>\n",
              "      <td>False</td>\n",
              "      <td>False</td>\n",
              "      <td>True</td>\n",
              "      <td>False</td>\n",
              "      <td>False</td>\n",
              "      <td>True</td>\n",
              "      <td>False</td>\n",
              "    </tr>\n",
              "    <tr>\n",
              "      <th>2</th>\n",
              "      <td>0</td>\n",
              "      <td>0</td>\n",
              "      <td>1</td>\n",
              "      <td>1</td>\n",
              "      <td>1</td>\n",
              "      <td>0</td>\n",
              "      <td>2</td>\n",
              "      <td>53.85</td>\n",
              "      <td>True</td>\n",
              "      <td>False</td>\n",
              "      <td>False</td>\n",
              "      <td>True</td>\n",
              "      <td>False</td>\n",
              "      <td>False</td>\n",
              "      <td>False</td>\n",
              "      <td>False</td>\n",
              "      <td>True</td>\n",
              "      <td>False</td>\n",
              "      <td>False</td>\n",
              "      <td>True</td>\n",
              "      <td>True</td>\n",
              "      <td>False</td>\n",
              "      <td>False</td>\n",
              "      <td>True</td>\n",
              "      <td>False</td>\n",
              "      <td>False</td>\n",
              "      <td>True</td>\n",
              "      <td>False</td>\n",
              "      <td>False</td>\n",
              "      <td>True</td>\n",
              "      <td>False</td>\n",
              "      <td>False</td>\n",
              "      <td>False</td>\n",
              "      <td>True</td>\n",
              "      <td>False</td>\n",
              "      <td>False</td>\n",
              "      <td>False</td>\n",
              "      <td>True</td>\n",
              "      <td>False</td>\n",
              "    </tr>\n",
              "    <tr>\n",
              "      <th>3</th>\n",
              "      <td>0</td>\n",
              "      <td>0</td>\n",
              "      <td>0</td>\n",
              "      <td>0</td>\n",
              "      <td>0</td>\n",
              "      <td>0</td>\n",
              "      <td>45</td>\n",
              "      <td>42.30</td>\n",
              "      <td>False</td>\n",
              "      <td>True</td>\n",
              "      <td>False</td>\n",
              "      <td>True</td>\n",
              "      <td>False</td>\n",
              "      <td>False</td>\n",
              "      <td>False</td>\n",
              "      <td>False</td>\n",
              "      <td>True</td>\n",
              "      <td>True</td>\n",
              "      <td>False</td>\n",
              "      <td>False</td>\n",
              "      <td>False</td>\n",
              "      <td>False</td>\n",
              "      <td>True</td>\n",
              "      <td>False</td>\n",
              "      <td>False</td>\n",
              "      <td>True</td>\n",
              "      <td>True</td>\n",
              "      <td>False</td>\n",
              "      <td>False</td>\n",
              "      <td>True</td>\n",
              "      <td>False</td>\n",
              "      <td>False</td>\n",
              "      <td>False</td>\n",
              "      <td>False</td>\n",
              "      <td>True</td>\n",
              "      <td>False</td>\n",
              "      <td>False</td>\n",
              "      <td>False</td>\n",
              "      <td>True</td>\n",
              "    </tr>\n",
              "    <tr>\n",
              "      <th>4</th>\n",
              "      <td>0</td>\n",
              "      <td>0</td>\n",
              "      <td>1</td>\n",
              "      <td>1</td>\n",
              "      <td>1</td>\n",
              "      <td>0</td>\n",
              "      <td>2</td>\n",
              "      <td>70.70</td>\n",
              "      <td>True</td>\n",
              "      <td>False</td>\n",
              "      <td>False</td>\n",
              "      <td>False</td>\n",
              "      <td>True</td>\n",
              "      <td>False</td>\n",
              "      <td>True</td>\n",
              "      <td>False</td>\n",
              "      <td>False</td>\n",
              "      <td>True</td>\n",
              "      <td>False</td>\n",
              "      <td>False</td>\n",
              "      <td>True</td>\n",
              "      <td>False</td>\n",
              "      <td>False</td>\n",
              "      <td>True</td>\n",
              "      <td>False</td>\n",
              "      <td>False</td>\n",
              "      <td>True</td>\n",
              "      <td>False</td>\n",
              "      <td>False</td>\n",
              "      <td>True</td>\n",
              "      <td>False</td>\n",
              "      <td>False</td>\n",
              "      <td>False</td>\n",
              "      <td>True</td>\n",
              "      <td>False</td>\n",
              "      <td>False</td>\n",
              "      <td>True</td>\n",
              "      <td>False</td>\n",
              "      <td>False</td>\n",
              "    </tr>\n",
              "  </tbody>\n",
              "</table>\n",
              "</div>\n",
              "    <div class=\"colab-df-buttons\">\n",
              "\n",
              "  <div class=\"colab-df-container\">\n",
              "    <button class=\"colab-df-convert\" onclick=\"convertToInteractive('df-8e22056a-3e30-4793-9a7c-fe08cad61918')\"\n",
              "            title=\"Convert this dataframe to an interactive table.\"\n",
              "            style=\"display:none;\">\n",
              "\n",
              "  <svg xmlns=\"http://www.w3.org/2000/svg\" height=\"24px\" viewBox=\"0 -960 960 960\">\n",
              "    <path d=\"M120-120v-720h720v720H120Zm60-500h600v-160H180v160Zm220 220h160v-160H400v160Zm0 220h160v-160H400v160ZM180-400h160v-160H180v160Zm440 0h160v-160H620v160ZM180-180h160v-160H180v160Zm440 0h160v-160H620v160Z\"/>\n",
              "  </svg>\n",
              "    </button>\n",
              "\n",
              "  <style>\n",
              "    .colab-df-container {\n",
              "      display:flex;\n",
              "      gap: 12px;\n",
              "    }\n",
              "\n",
              "    .colab-df-convert {\n",
              "      background-color: #E8F0FE;\n",
              "      border: none;\n",
              "      border-radius: 50%;\n",
              "      cursor: pointer;\n",
              "      display: none;\n",
              "      fill: #1967D2;\n",
              "      height: 32px;\n",
              "      padding: 0 0 0 0;\n",
              "      width: 32px;\n",
              "    }\n",
              "\n",
              "    .colab-df-convert:hover {\n",
              "      background-color: #E2EBFA;\n",
              "      box-shadow: 0px 1px 2px rgba(60, 64, 67, 0.3), 0px 1px 3px 1px rgba(60, 64, 67, 0.15);\n",
              "      fill: #174EA6;\n",
              "    }\n",
              "\n",
              "    .colab-df-buttons div {\n",
              "      margin-bottom: 4px;\n",
              "    }\n",
              "\n",
              "    [theme=dark] .colab-df-convert {\n",
              "      background-color: #3B4455;\n",
              "      fill: #D2E3FC;\n",
              "    }\n",
              "\n",
              "    [theme=dark] .colab-df-convert:hover {\n",
              "      background-color: #434B5C;\n",
              "      box-shadow: 0px 1px 3px 1px rgba(0, 0, 0, 0.15);\n",
              "      filter: drop-shadow(0px 1px 2px rgba(0, 0, 0, 0.3));\n",
              "      fill: #FFFFFF;\n",
              "    }\n",
              "  </style>\n",
              "\n",
              "    <script>\n",
              "      const buttonEl =\n",
              "        document.querySelector('#df-8e22056a-3e30-4793-9a7c-fe08cad61918 button.colab-df-convert');\n",
              "      buttonEl.style.display =\n",
              "        google.colab.kernel.accessAllowed ? 'block' : 'none';\n",
              "\n",
              "      async function convertToInteractive(key) {\n",
              "        const element = document.querySelector('#df-8e22056a-3e30-4793-9a7c-fe08cad61918');\n",
              "        const dataTable =\n",
              "          await google.colab.kernel.invokeFunction('convertToInteractive',\n",
              "                                                    [key], {});\n",
              "        if (!dataTable) return;\n",
              "\n",
              "        const docLinkHtml = 'Like what you see? Visit the ' +\n",
              "          '<a target=\"_blank\" href=https://colab.research.google.com/notebooks/data_table.ipynb>data table notebook</a>'\n",
              "          + ' to learn more about interactive tables.';\n",
              "        element.innerHTML = '';\n",
              "        dataTable['output_type'] = 'display_data';\n",
              "        await google.colab.output.renderOutput(dataTable, element);\n",
              "        const docLink = document.createElement('div');\n",
              "        docLink.innerHTML = docLinkHtml;\n",
              "        element.appendChild(docLink);\n",
              "      }\n",
              "    </script>\n",
              "  </div>\n",
              "\n",
              "\n",
              "<div id=\"df-6a7b7c35-eefc-4082-9946-cd2031de8d1e\">\n",
              "  <button class=\"colab-df-quickchart\" onclick=\"quickchart('df-6a7b7c35-eefc-4082-9946-cd2031de8d1e')\"\n",
              "            title=\"Suggest charts\"\n",
              "            style=\"display:none;\">\n",
              "\n",
              "<svg xmlns=\"http://www.w3.org/2000/svg\" height=\"24px\"viewBox=\"0 0 24 24\"\n",
              "     width=\"24px\">\n",
              "    <g>\n",
              "        <path d=\"M19 3H5c-1.1 0-2 .9-2 2v14c0 1.1.9 2 2 2h14c1.1 0 2-.9 2-2V5c0-1.1-.9-2-2-2zM9 17H7v-7h2v7zm4 0h-2V7h2v10zm4 0h-2v-4h2v4z\"/>\n",
              "    </g>\n",
              "</svg>\n",
              "  </button>\n",
              "\n",
              "<style>\n",
              "  .colab-df-quickchart {\n",
              "      --bg-color: #E8F0FE;\n",
              "      --fill-color: #1967D2;\n",
              "      --hover-bg-color: #E2EBFA;\n",
              "      --hover-fill-color: #174EA6;\n",
              "      --disabled-fill-color: #AAA;\n",
              "      --disabled-bg-color: #DDD;\n",
              "  }\n",
              "\n",
              "  [theme=dark] .colab-df-quickchart {\n",
              "      --bg-color: #3B4455;\n",
              "      --fill-color: #D2E3FC;\n",
              "      --hover-bg-color: #434B5C;\n",
              "      --hover-fill-color: #FFFFFF;\n",
              "      --disabled-bg-color: #3B4455;\n",
              "      --disabled-fill-color: #666;\n",
              "  }\n",
              "\n",
              "  .colab-df-quickchart {\n",
              "    background-color: var(--bg-color);\n",
              "    border: none;\n",
              "    border-radius: 50%;\n",
              "    cursor: pointer;\n",
              "    display: none;\n",
              "    fill: var(--fill-color);\n",
              "    height: 32px;\n",
              "    padding: 0;\n",
              "    width: 32px;\n",
              "  }\n",
              "\n",
              "  .colab-df-quickchart:hover {\n",
              "    background-color: var(--hover-bg-color);\n",
              "    box-shadow: 0 1px 2px rgba(60, 64, 67, 0.3), 0 1px 3px 1px rgba(60, 64, 67, 0.15);\n",
              "    fill: var(--button-hover-fill-color);\n",
              "  }\n",
              "\n",
              "  .colab-df-quickchart-complete:disabled,\n",
              "  .colab-df-quickchart-complete:disabled:hover {\n",
              "    background-color: var(--disabled-bg-color);\n",
              "    fill: var(--disabled-fill-color);\n",
              "    box-shadow: none;\n",
              "  }\n",
              "\n",
              "  .colab-df-spinner {\n",
              "    border: 2px solid var(--fill-color);\n",
              "    border-color: transparent;\n",
              "    border-bottom-color: var(--fill-color);\n",
              "    animation:\n",
              "      spin 1s steps(1) infinite;\n",
              "  }\n",
              "\n",
              "  @keyframes spin {\n",
              "    0% {\n",
              "      border-color: transparent;\n",
              "      border-bottom-color: var(--fill-color);\n",
              "      border-left-color: var(--fill-color);\n",
              "    }\n",
              "    20% {\n",
              "      border-color: transparent;\n",
              "      border-left-color: var(--fill-color);\n",
              "      border-top-color: var(--fill-color);\n",
              "    }\n",
              "    30% {\n",
              "      border-color: transparent;\n",
              "      border-left-color: var(--fill-color);\n",
              "      border-top-color: var(--fill-color);\n",
              "      border-right-color: var(--fill-color);\n",
              "    }\n",
              "    40% {\n",
              "      border-color: transparent;\n",
              "      border-right-color: var(--fill-color);\n",
              "      border-top-color: var(--fill-color);\n",
              "    }\n",
              "    60% {\n",
              "      border-color: transparent;\n",
              "      border-right-color: var(--fill-color);\n",
              "    }\n",
              "    80% {\n",
              "      border-color: transparent;\n",
              "      border-right-color: var(--fill-color);\n",
              "      border-bottom-color: var(--fill-color);\n",
              "    }\n",
              "    90% {\n",
              "      border-color: transparent;\n",
              "      border-bottom-color: var(--fill-color);\n",
              "    }\n",
              "  }\n",
              "</style>\n",
              "\n",
              "  <script>\n",
              "    async function quickchart(key) {\n",
              "      const quickchartButtonEl =\n",
              "        document.querySelector('#' + key + ' button');\n",
              "      quickchartButtonEl.disabled = true;  // To prevent multiple clicks.\n",
              "      quickchartButtonEl.classList.add('colab-df-spinner');\n",
              "      try {\n",
              "        const charts = await google.colab.kernel.invokeFunction(\n",
              "            'suggestCharts', [key], {});\n",
              "      } catch (error) {\n",
              "        console.error('Error during call to suggestCharts:', error);\n",
              "      }\n",
              "      quickchartButtonEl.classList.remove('colab-df-spinner');\n",
              "      quickchartButtonEl.classList.add('colab-df-quickchart-complete');\n",
              "    }\n",
              "    (() => {\n",
              "      let quickchartButtonEl =\n",
              "        document.querySelector('#df-6a7b7c35-eefc-4082-9946-cd2031de8d1e button');\n",
              "      quickchartButtonEl.style.display =\n",
              "        google.colab.kernel.accessAllowed ? 'block' : 'none';\n",
              "    })();\n",
              "  </script>\n",
              "</div>\n",
              "\n",
              "    </div>\n",
              "  </div>\n"
            ],
            "application/vnd.google.colaboratory.intrinsic+json": {
              "type": "dataframe",
              "variable_name": "dados_final"
            }
          },
          "metadata": {},
          "execution_count": 91
        }
      ]
    },
    {
      "cell_type": "markdown",
      "source": [
        "\n",
        "$y_i$ = $f(x_i)$"
      ],
      "metadata": {
        "id": "mlxxn4VYTQnV"
      }
    },
    {
      "cell_type": "code",
      "source": [
        "Xmaria = [[0,0,1,1,0,0,39.90,1,0,0,0,1,0,1,0,0,0,0,1,1,1,0,0,1,0,1,0,0,0,0,1,0,0,1,0,0,0,1]]"
      ],
      "metadata": {
        "id": "JVqSH1yp4Cq2"
      },
      "execution_count": null,
      "outputs": []
    },
    {
      "cell_type": "code",
      "source": [
        "#ymaria = ?"
      ],
      "metadata": {
        "id": "1Btl3Wct4CoN"
      },
      "execution_count": null,
      "outputs": []
    },
    {
      "cell_type": "markdown",
      "source": [
        "Novos pares de informações = ($Xmaria$, $ymaria$)"
      ],
      "metadata": {
        "id": "n4nyxwPFTncE"
      }
    },
    {
      "cell_type": "markdown",
      "source": [
        "## 1.4 - Balanceamento dos dados"
      ],
      "metadata": {
        "id": "zCcuXt0FZfNe"
      }
    },
    {
      "cell_type": "code",
      "source": [
        "#Variável target está desbalanceada\n",
        "import seaborn as sns\n",
        "%matplotlib inline\n",
        "ax = sns.countplot(x='Churn', hue='Churn', data=dados_final)"
      ],
      "metadata": {
        "id": "Q6UEOCOSV6qu",
        "colab": {
          "base_uri": "https://localhost:8080/"
        },
        "outputId": "dc0c42c5-9ce8-4a9a-db2c-1367d99a0561"
      },
      "execution_count": null,
      "outputs": [
        {
          "output_type": "display_data",
          "data": {
            "text/plain": [
              "<Figure size 640x480 with 1 Axes>"
            ],
            "image/png": "[encoded data removed]"
          },
          "metadata": {}
        }
      ]
    },
    {
      "cell_type": "code",
      "source": [
        "dados_final['Churn'].value_counts()"
      ],
      "metadata": {
        "colab": {
          "base_uri": "https://localhost:8080/"
        },
        "id": "q9PYZiavohYQ",
        "outputId": "22f568c1-2305-4154-edcf-30de26d7f803"
      },
      "execution_count": null,
      "outputs": [
        {
          "output_type": "execute_result",
          "data": {
            "text/plain": [
              "Churn\n",
              "0    5174\n",
              "1    1869\n",
              "Name: count, dtype: int64"
            ]
          },
          "metadata": {},
          "execution_count": 95
        }
      ]
    },
    {
      "cell_type": "code",
      "source": [
        "from imblearn.over_sampling import SMOTE"
      ],
      "metadata": {
        "id": "yOJBVuh7pKAY"
      },
      "execution_count": null,
      "outputs": []
    },
    {
      "cell_type": "markdown",
      "source": [
        "https://medium.com/turing-talks/dados-desbalanceados-o-que-s%C3%A3o-e-como-evit%C3%A1-los-43df4f49732b"
      ],
      "metadata": {
        "id": "pn3fJDiep1BB"
      }
    },
    {
      "cell_type": "code",
      "source": [
        "X = dados_final.drop('Churn', axis=1)\n",
        "y = dados_final['Churn']"
      ],
      "metadata": {
        "id": "NgtYjY7dqn6g"
      },
      "execution_count": null,
      "outputs": []
    },
    {
      "cell_type": "code",
      "source": [
        "seed = 123\n",
        "smt = SMOTE(random_state=seed)\n",
        "X, y = smt.fit_resample(X, y)"
      ],
      "metadata": {
        "id": "vJJSDgcup2dI"
      },
      "execution_count": null,
      "outputs": []
    },
    {
      "cell_type": "code",
      "source": [
        "#Junção dos dados balanceados\n",
        "dados_final = pd.concat([X, y], axis=1)\n",
        "dados_final.head()"
      ],
      "metadata": {
        "colab": {
          "base_uri": "https://localhost:8080/"
        },
        "id": "20BK0Ju2qdhw",
        "outputId": "c2f00292-f2a6-4e7f-d4cf-3e4cca08b2f2"
      },
      "execution_count": null,
      "outputs": [
        {
          "output_type": "execute_result",
          "data": {
            "text/plain": [
              "   Conjuge  Dependentes  TelefoneFixo  PagamentoOnline  Maior65Anos  \\\n",
              "0        1            0             0                1            0   \n",
              "1        0            0             1                0            0   \n",
              "2        0            0             1                1            0   \n",
              "3        0            0             0                0            0   \n",
              "4        0            0             1                1            0   \n",
              "\n",
              "   MesesDeContrato  ContaMensal  VariasLinhasTelefonicas_Nao  \\\n",
              "0                1        29.85                        False   \n",
              "1               34        56.95                         True   \n",
              "2                2        53.85                         True   \n",
              "3               45        42.30                        False   \n",
              "4                2        70.70                         True   \n",
              "\n",
              "   VariasLinhasTelefonicas_SemServicoTelefonico  VariasLinhasTelefonicas_Sim  \\\n",
              "0                                          True                        False   \n",
              "1                                         False                        False   \n",
              "2                                         False                        False   \n",
              "3                                          True                        False   \n",
              "4                                         False                        False   \n",
              "\n",
              "   ServicoDeInternet_DSL  ServicoDeInternet_FibraOptica  \\\n",
              "0                   True                          False   \n",
              "1                   True                          False   \n",
              "2                   True                          False   \n",
              "3                   True                          False   \n",
              "4                  False                           True   \n",
              "\n",
              "   ServicoDeInternet_Nao  SegurancaOnline_Nao  \\\n",
              "0                  False                 True   \n",
              "1                  False                False   \n",
              "2                  False                False   \n",
              "3                  False                False   \n",
              "4                  False                 True   \n",
              "\n",
              "   SegurancaOnline_SemServicoDeInternet  SegurancaOnline_Sim  \\\n",
              "0                                 False                False   \n",
              "1                                 False                 True   \n",
              "2                                 False                 True   \n",
              "3                                 False                 True   \n",
              "4                                 False                False   \n",
              "\n",
              "   BackupOnline_Nao  BackupOnline_SemServicoDeInternet  BackupOnline_Sim  \\\n",
              "0             False                              False              True   \n",
              "1              True                              False             False   \n",
              "2             False                              False              True   \n",
              "3              True                              False             False   \n",
              "4              True                              False             False   \n",
              "\n",
              "   SeguroNoDispositivo_Nao  SeguroNoDispositivo_SemServicoDeInternet  \\\n",
              "0                     True                                     False   \n",
              "1                    False                                     False   \n",
              "2                     True                                     False   \n",
              "3                    False                                     False   \n",
              "4                     True                                     False   \n",
              "\n",
              "   SeguroNoDispositivo_Sim  SuporteTecnico_Nao  \\\n",
              "0                    False                True   \n",
              "1                     True                True   \n",
              "2                    False                True   \n",
              "3                     True               False   \n",
              "4                    False                True   \n",
              "\n",
              "   SuporteTecnico_SemServicoDeInternet  SuporteTecnico_Sim  TVaCabo_Nao  \\\n",
              "0                                False               False         True   \n",
              "1                                False               False         True   \n",
              "2                                False               False         True   \n",
              "3                                False                True         True   \n",
              "4                                False               False         True   \n",
              "\n",
              "   TVaCabo_SemServicoDeInternet  TVaCabo_Sim  StreamingDeFilmes_Nao  \\\n",
              "0                         False        False                   True   \n",
              "1                         False        False                   True   \n",
              "2                         False        False                   True   \n",
              "3                         False        False                   True   \n",
              "4                         False        False                   True   \n",
              "\n",
              "   StreamingDeFilmes_SemServicoDeInternet  StreamingDeFilmes_Sim  \\\n",
              "0                                   False                  False   \n",
              "1                                   False                  False   \n",
              "2                                   False                  False   \n",
              "3                                   False                  False   \n",
              "4                                   False                  False   \n",
              "\n",
              "   TipoDeContrato_DoisAnos  TipoDeContrato_Mensalmente  TipoDeContrato_UmAno  \\\n",
              "0                    False                        True                 False   \n",
              "1                    False                       False                  True   \n",
              "2                    False                        True                 False   \n",
              "3                    False                       False                  True   \n",
              "4                    False                        True                 False   \n",
              "\n",
              "   FormaDePagamento_CartaoDeCredito  FormaDePagamento_ChequeDigital  \\\n",
              "0                             False                            True   \n",
              "1                             False                           False   \n",
              "2                             False                           False   \n",
              "3                             False                           False   \n",
              "4                             False                            True   \n",
              "\n",
              "   FormaDePagamento_ChequePapel  FormaDePagamento_DebitoEmConta  Churn  \n",
              "0                         False                           False      0  \n",
              "1                          True                           False      0  \n",
              "2                          True                           False      1  \n",
              "3                         False                            True      0  \n",
              "4                         False                           False      1  "
            ],
            "text/html": [
              "\n",
              "  <div id=\"df-0bccb907-4250-4db3-8917-d6e9bea7bd42\" class=\"colab-df-container\">\n",
              "    <div>\n",
              "<style scoped>\n",
              "    .dataframe tbody tr th:only-of-type {\n",
              "        vertical-align: middle;\n",
              "    }\n",
              "\n",
              "    .dataframe tbody tr th {\n",
              "        vertical-align: top;\n",
              "    }\n",
              "\n",
              "    .dataframe thead th {\n",
              "        text-align: right;\n",
              "    }\n",
              "</style>\n",
              "<table border=\"1\" class=\"dataframe\">\n",
              "  <thead>\n",
              "    <tr style=\"text-align: right;\">\n",
              "      <th></th>\n",
              "      <th>Conjuge</th>\n",
              "      <th>Dependentes</th>\n",
              "      <th>TelefoneFixo</th>\n",
              "      <th>PagamentoOnline</th>\n",
              "      <th>Maior65Anos</th>\n",
              "      <th>MesesDeContrato</th>\n",
              "      <th>ContaMensal</th>\n",
              "      <th>VariasLinhasTelefonicas_Nao</th>\n",
              "      <th>VariasLinhasTelefonicas_SemServicoTelefonico</th>\n",
              "      <th>VariasLinhasTelefonicas_Sim</th>\n",
              "      <th>ServicoDeInternet_DSL</th>\n",
              "      <th>ServicoDeInternet_FibraOptica</th>\n",
              "      <th>ServicoDeInternet_Nao</th>\n",
              "      <th>SegurancaOnline_Nao</th>\n",
              "      <th>SegurancaOnline_SemServicoDeInternet</th>\n",
              "      <th>SegurancaOnline_Sim</th>\n",
              "      <th>BackupOnline_Nao</th>\n",
              "      <th>BackupOnline_SemServicoDeInternet</th>\n",
              "      <th>BackupOnline_Sim</th>\n",
              "      <th>SeguroNoDispositivo_Nao</th>\n",
              "      <th>SeguroNoDispositivo_SemServicoDeInternet</th>\n",
              "      <th>SeguroNoDispositivo_Sim</th>\n",
              "      <th>SuporteTecnico_Nao</th>\n",
              "      <th>SuporteTecnico_SemServicoDeInternet</th>\n",
              "      <th>SuporteTecnico_Sim</th>\n",
              "      <th>TVaCabo_Nao</th>\n",
              "      <th>TVaCabo_SemServicoDeInternet</th>\n",
              "      <th>TVaCabo_Sim</th>\n",
              "      <th>StreamingDeFilmes_Nao</th>\n",
              "      <th>StreamingDeFilmes_SemServicoDeInternet</th>\n",
              "      <th>StreamingDeFilmes_Sim</th>\n",
              "      <th>TipoDeContrato_DoisAnos</th>\n",
              "      <th>TipoDeContrato_Mensalmente</th>\n",
              "      <th>TipoDeContrato_UmAno</th>\n",
              "      <th>FormaDePagamento_CartaoDeCredito</th>\n",
              "      <th>FormaDePagamento_ChequeDigital</th>\n",
              "      <th>FormaDePagamento_ChequePapel</th>\n",
              "      <th>FormaDePagamento_DebitoEmConta</th>\n",
              "      <th>Churn</th>\n",
              "    </tr>\n",
              "  </thead>\n",
              "  <tbody>\n",
              "    <tr>\n",
              "      <th>0</th>\n",
              "      <td>1</td>\n",
              "      <td>0</td>\n",
              "      <td>0</td>\n",
              "      <td>1</td>\n",
              "      <td>0</td>\n",
              "      <td>1</td>\n",
              "      <td>29.85</td>\n",
              "      <td>False</td>\n",
              "      <td>True</td>\n",
              "      <td>False</td>\n",
              "      <td>True</td>\n",
              "      <td>False</td>\n",
              "      <td>False</td>\n",
              "      <td>True</td>\n",
              "      <td>False</td>\n",
              "      <td>False</td>\n",
              "      <td>False</td>\n",
              "      <td>False</td>\n",
              "      <td>True</td>\n",
              "      <td>True</td>\n",
              "      <td>False</td>\n",
              "      <td>False</td>\n",
              "      <td>True</td>\n",
              "      <td>False</td>\n",
              "      <td>False</td>\n",
              "      <td>True</td>\n",
              "      <td>False</td>\n",
              "      <td>False</td>\n",
              "      <td>True</td>\n",
              "      <td>False</td>\n",
              "      <td>False</td>\n",
              "      <td>False</td>\n",
              "      <td>True</td>\n",
              "      <td>False</td>\n",
              "      <td>False</td>\n",
              "      <td>True</td>\n",
              "      <td>False</td>\n",
              "      <td>False</td>\n",
              "      <td>0</td>\n",
              "    </tr>\n",
              "    <tr>\n",
              "      <th>1</th>\n",
              "      <td>0</td>\n",
              "      <td>0</td>\n",
              "      <td>1</td>\n",
              "      <td>0</td>\n",
              "      <td>0</td>\n",
              "      <td>34</td>\n",
              "      <td>56.95</td>\n",
              "      <td>True</td>\n",
              "      <td>False</td>\n",
              "      <td>False</td>\n",
              "      <td>True</td>\n",
              "      <td>False</td>\n",
              "      <td>False</td>\n",
              "      <td>False</td>\n",
              "      <td>False</td>\n",
              "      <td>True</td>\n",
              "      <td>True</td>\n",
              "      <td>False</td>\n",
              "      <td>False</td>\n",
              "      <td>False</td>\n",
              "      <td>False</td>\n",
              "      <td>True</td>\n",
              "      <td>True</td>\n",
              "      <td>False</td>\n",
              "      <td>False</td>\n",
              "      <td>True</td>\n",
              "      <td>False</td>\n",
              "      <td>False</td>\n",
              "      <td>True</td>\n",
              "      <td>False</td>\n",
              "      <td>False</td>\n",
              "      <td>False</td>\n",
              "      <td>False</td>\n",
              "      <td>True</td>\n",
              "      <td>False</td>\n",
              "      <td>False</td>\n",
              "      <td>True</td>\n",
              "      <td>False</td>\n",
              "      <td>0</td>\n",
              "    </tr>\n",
              "    <tr>\n",
              "      <th>2</th>\n",
              "      <td>0</td>\n",
              "      <td>0</td>\n",
              "      <td>1</td>\n",
              "      <td>1</td>\n",
              "      <td>0</td>\n",
              "      <td>2</td>\n",
              "      <td>53.85</td>\n",
              "      <td>True</td>\n",
              "      <td>False</td>\n",
              "      <td>False</td>\n",
              "      <td>True</td>\n",
              "      <td>False</td>\n",
              "      <td>False</td>\n",
              "      <td>False</td>\n",
              "      <td>False</td>\n",
              "      <td>True</td>\n",
              "      <td>False</td>\n",
              "      <td>False</td>\n",
              "      <td>True</td>\n",
              "      <td>True</td>\n",
              "      <td>False</td>\n",
              "      <td>False</td>\n",
              "      <td>True</td>\n",
              "      <td>False</td>\n",
              "      <td>False</td>\n",
              "      <td>True</td>\n",
              "      <td>False</td>\n",
              "      <td>False</td>\n",
              "      <td>True</td>\n",
              "      <td>False</td>\n",
              "      <td>False</td>\n",
              "      <td>False</td>\n",
              "      <td>True</td>\n",
              "      <td>False</td>\n",
              "      <td>False</td>\n",
              "      <td>False</td>\n",
              "      <td>True</td>\n",
              "      <td>False</td>\n",
              "      <td>1</td>\n",
              "    </tr>\n",
              "    <tr>\n",
              "      <th>3</th>\n",
              "      <td>0</td>\n",
              "      <td>0</td>\n",
              "      <td>0</td>\n",
              "      <td>0</td>\n",
              "      <td>0</td>\n",
              "      <td>45</td>\n",
              "      <td>42.30</td>\n",
              "      <td>False</td>\n",
              "      <td>True</td>\n",
              "      <td>False</td>\n",
              "      <td>True</td>\n",
              "      <td>False</td>\n",
              "      <td>False</td>\n",
              "      <td>False</td>\n",
              "      <td>False</td>\n",
              "      <td>True</td>\n",
              "      <td>True</td>\n",
              "      <td>False</td>\n",
              "      <td>False</td>\n",
              "      <td>False</td>\n",
              "      <td>False</td>\n",
              "      <td>True</td>\n",
              "      <td>False</td>\n",
              "      <td>False</td>\n",
              "      <td>True</td>\n",
              "      <td>True</td>\n",
              "      <td>False</td>\n",
              "      <td>False</td>\n",
              "      <td>True</td>\n",
              "      <td>False</td>\n",
              "      <td>False</td>\n",
              "      <td>False</td>\n",
              "      <td>False</td>\n",
              "      <td>True</td>\n",
              "      <td>False</td>\n",
              "      <td>False</td>\n",
              "      <td>False</td>\n",
              "      <td>True</td>\n",
              "      <td>0</td>\n",
              "    </tr>\n",
              "    <tr>\n",
              "      <th>4</th>\n",
              "      <td>0</td>\n",
              "      <td>0</td>\n",
              "      <td>1</td>\n",
              "      <td>1</td>\n",
              "      <td>0</td>\n",
              "      <td>2</td>\n",
              "      <td>70.70</td>\n",
              "      <td>True</td>\n",
              "      <td>False</td>\n",
              "      <td>False</td>\n",
              "      <td>False</td>\n",
              "      <td>True</td>\n",
              "      <td>False</td>\n",
              "      <td>True</td>\n",
              "      <td>False</td>\n",
              "      <td>False</td>\n",
              "      <td>True</td>\n",
              "      <td>False</td>\n",
              "      <td>False</td>\n",
              "      <td>True</td>\n",
              "      <td>False</td>\n",
              "      <td>False</td>\n",
              "      <td>True</td>\n",
              "      <td>False</td>\n",
              "      <td>False</td>\n",
              "      <td>True</td>\n",
              "      <td>False</td>\n",
              "      <td>False</td>\n",
              "      <td>True</td>\n",
              "      <td>False</td>\n",
              "      <td>False</td>\n",
              "      <td>False</td>\n",
              "      <td>True</td>\n",
              "      <td>False</td>\n",
              "      <td>False</td>\n",
              "      <td>True</td>\n",
              "      <td>False</td>\n",
              "      <td>False</td>\n",
              "      <td>1</td>\n",
              "    </tr>\n",
              "  </tbody>\n",
              "</table>\n",
              "</div>\n",
              "    <div class=\"colab-df-buttons\">\n",
              "\n",
              "  <div class=\"colab-df-container\">\n",
              "    <button class=\"colab-df-convert\" onclick=\"convertToInteractive('df-0bccb907-4250-4db3-8917-d6e9bea7bd42')\"\n",
              "            title=\"Convert this dataframe to an interactive table.\"\n",
              "            style=\"display:none;\">\n",
              "\n",
              "  <svg xmlns=\"http://www.w3.org/2000/svg\" height=\"24px\" viewBox=\"0 -960 960 960\">\n",
              "    <path d=\"M120-120v-720h720v720H120Zm60-500h600v-160H180v160Zm220 220h160v-160H400v160Zm0 220h160v-160H400v160ZM180-400h160v-160H180v160Zm440 0h160v-160H620v160ZM180-180h160v-160H180v160Zm440 0h160v-160H620v160Z\"/>\n",
              "  </svg>\n",
              "    </button>\n",
              "\n",
              "  <style>\n",
              "    .colab-df-container {\n",
              "      display:flex;\n",
              "      gap: 12px;\n",
              "    }\n",
              "\n",
              "    .colab-df-convert {\n",
              "      background-color: #E8F0FE;\n",
              "      border: none;\n",
              "      border-radius: 50%;\n",
              "      cursor: pointer;\n",
              "      display: none;\n",
              "      fill: #1967D2;\n",
              "      height: 32px;\n",
              "      padding: 0 0 0 0;\n",
              "      width: 32px;\n",
              "    }\n",
              "\n",
              "    .colab-df-convert:hover {\n",
              "      background-color: #E2EBFA;\n",
              "      box-shadow: 0px 1px 2px rgba(60, 64, 67, 0.3), 0px 1px 3px 1px rgba(60, 64, 67, 0.15);\n",
              "      fill: #174EA6;\n",
              "    }\n",
              "\n",
              "    .colab-df-buttons div {\n",
              "      margin-bottom: 4px;\n",
              "    }\n",
              "\n",
              "    [theme=dark] .colab-df-convert {\n",
              "      background-color: #3B4455;\n",
              "      fill: #D2E3FC;\n",
              "    }\n",
              "\n",
              "    [theme=dark] .colab-df-convert:hover {\n",
              "      background-color: #434B5C;\n",
              "      box-shadow: 0px 1px 3px 1px rgba(0, 0, 0, 0.15);\n",
              "      filter: drop-shadow(0px 1px 2px rgba(0, 0, 0, 0.3));\n",
              "      fill: #FFFFFF;\n",
              "    }\n",
              "  </style>\n",
              "\n",
              "    <script>\n",
              "      const buttonEl =\n",
              "        document.querySelector('#df-0bccb907-4250-4db3-8917-d6e9bea7bd42 button.colab-df-convert');\n",
              "      buttonEl.style.display =\n",
              "        google.colab.kernel.accessAllowed ? 'block' : 'none';\n",
              "\n",
              "      async function convertToInteractive(key) {\n",
              "        const element = document.querySelector('#df-0bccb907-4250-4db3-8917-d6e9bea7bd42');\n",
              "        const dataTable =\n",
              "          await google.colab.kernel.invokeFunction('convertToInteractive',\n",
              "                                                    [key], {});\n",
              "        if (!dataTable) return;\n",
              "\n",
              "        const docLinkHtml = 'Like what you see? Visit the ' +\n",
              "          '<a target=\"_blank\" href=https://colab.research.google.com/notebooks/data_table.ipynb>data table notebook</a>'\n",
              "          + ' to learn more about interactive tables.';\n",
              "        element.innerHTML = '';\n",
              "        dataTable['output_type'] = 'display_data';\n",
              "        await google.colab.output.renderOutput(dataTable, element);\n",
              "        const docLink = document.createElement('div');\n",
              "        docLink.innerHTML = docLinkHtml;\n",
              "        element.appendChild(docLink);\n",
              "      }\n",
              "    </script>\n",
              "  </div>\n",
              "\n",
              "\n",
              "<div id=\"df-be986117-6f22-4840-801f-a6a779ea372d\">\n",
              "  <button class=\"colab-df-quickchart\" onclick=\"quickchart('df-be986117-6f22-4840-801f-a6a779ea372d')\"\n",
              "            title=\"Suggest charts\"\n",
              "            style=\"display:none;\">\n",
              "\n",
              "<svg xmlns=\"http://www.w3.org/2000/svg\" height=\"24px\"viewBox=\"0 0 24 24\"\n",
              "     width=\"24px\">\n",
              "    <g>\n",
              "        <path d=\"M19 3H5c-1.1 0-2 .9-2 2v14c0 1.1.9 2 2 2h14c1.1 0 2-.9 2-2V5c0-1.1-.9-2-2-2zM9 17H7v-7h2v7zm4 0h-2V7h2v10zm4 0h-2v-4h2v4z\"/>\n",
              "    </g>\n",
              "</svg>\n",
              "  </button>\n",
              "\n",
              "<style>\n",
              "  .colab-df-quickchart {\n",
              "      --bg-color: #E8F0FE;\n",
              "      --fill-color: #1967D2;\n",
              "      --hover-bg-color: #E2EBFA;\n",
              "      --hover-fill-color: #174EA6;\n",
              "      --disabled-fill-color: #AAA;\n",
              "      --disabled-bg-color: #DDD;\n",
              "  }\n",
              "\n",
              "  [theme=dark] .colab-df-quickchart {\n",
              "      --bg-color: #3B4455;\n",
              "      --fill-color: #D2E3FC;\n",
              "      --hover-bg-color: #434B5C;\n",
              "      --hover-fill-color: #FFFFFF;\n",
              "      --disabled-bg-color: #3B4455;\n",
              "      --disabled-fill-color: #666;\n",
              "  }\n",
              "\n",
              "  .colab-df-quickchart {\n",
              "    background-color: var(--bg-color);\n",
              "    border: none;\n",
              "    border-radius: 50%;\n",
              "    cursor: pointer;\n",
              "    display: none;\n",
              "    fill: var(--fill-color);\n",
              "    height: 32px;\n",
              "    padding: 0;\n",
              "    width: 32px;\n",
              "  }\n",
              "\n",
              "  .colab-df-quickchart:hover {\n",
              "    background-color: var(--hover-bg-color);\n",
              "    box-shadow: 0 1px 2px rgba(60, 64, 67, 0.3), 0 1px 3px 1px rgba(60, 64, 67, 0.15);\n",
              "    fill: var(--button-hover-fill-color);\n",
              "  }\n",
              "\n",
              "  .colab-df-quickchart-complete:disabled,\n",
              "  .colab-df-quickchart-complete:disabled:hover {\n",
              "    background-color: var(--disabled-bg-color);\n",
              "    fill: var(--disabled-fill-color);\n",
              "    box-shadow: none;\n",
              "  }\n",
              "\n",
              "  .colab-df-spinner {\n",
              "    border: 2px solid var(--fill-color);\n",
              "    border-color: transparent;\n",
              "    border-bottom-color: var(--fill-color);\n",
              "    animation:\n",
              "      spin 1s steps(1) infinite;\n",
              "  }\n",
              "\n",
              "  @keyframes spin {\n",
              "    0% {\n",
              "      border-color: transparent;\n",
              "      border-bottom-color: var(--fill-color);\n",
              "      border-left-color: var(--fill-color);\n",
              "    }\n",
              "    20% {\n",
              "      border-color: transparent;\n",
              "      border-left-color: var(--fill-color);\n",
              "      border-top-color: var(--fill-color);\n",
              "    }\n",
              "    30% {\n",
              "      border-color: transparent;\n",
              "      border-left-color: var(--fill-color);\n",
              "      border-top-color: var(--fill-color);\n",
              "      border-right-color: var(--fill-color);\n",
              "    }\n",
              "    40% {\n",
              "      border-color: transparent;\n",
              "      border-right-color: var(--fill-color);\n",
              "      border-top-color: var(--fill-color);\n",
              "    }\n",
              "    60% {\n",
              "      border-color: transparent;\n",
              "      border-right-color: var(--fill-color);\n",
              "    }\n",
              "    80% {\n",
              "      border-color: transparent;\n",
              "      border-right-color: var(--fill-color);\n",
              "      border-bottom-color: var(--fill-color);\n",
              "    }\n",
              "    90% {\n",
              "      border-color: transparent;\n",
              "      border-bottom-color: var(--fill-color);\n",
              "    }\n",
              "  }\n",
              "</style>\n",
              "\n",
              "  <script>\n",
              "    async function quickchart(key) {\n",
              "      const quickchartButtonEl =\n",
              "        document.querySelector('#' + key + ' button');\n",
              "      quickchartButtonEl.disabled = true;  // To prevent multiple clicks.\n",
              "      quickchartButtonEl.classList.add('colab-df-spinner');\n",
              "      try {\n",
              "        const charts = await google.colab.kernel.invokeFunction(\n",
              "            'suggestCharts', [key], {});\n",
              "      } catch (error) {\n",
              "        console.error('Error during call to suggestCharts:', error);\n",
              "      }\n",
              "      quickchartButtonEl.classList.remove('colab-df-spinner');\n",
              "      quickchartButtonEl.classList.add('colab-df-quickchart-complete');\n",
              "    }\n",
              "    (() => {\n",
              "      let quickchartButtonEl =\n",
              "        document.querySelector('#df-be986117-6f22-4840-801f-a6a779ea372d button');\n",
              "      quickchartButtonEl.style.display =\n",
              "        google.colab.kernel.accessAllowed ? 'block' : 'none';\n",
              "    })();\n",
              "  </script>\n",
              "</div>\n",
              "\n",
              "    </div>\n",
              "  </div>\n"
            ],
            "application/vnd.google.colaboratory.intrinsic+json": {
              "type": "dataframe",
              "variable_name": "dados_final"
            }
          },
          "metadata": {},
          "execution_count": 99
        }
      ]
    },
    {
      "cell_type": "code",
      "source": [
        "dados_final['Churn'].value_counts()"
      ],
      "metadata": {
        "colab": {
          "base_uri": "https://localhost:8080/"
        },
        "id": "Jd1-tLo5rkGY",
        "outputId": "64793099-3f32-4d4c-bb7d-680b4e3bd7ca"
      },
      "execution_count": null,
      "outputs": [
        {
          "output_type": "execute_result",
          "data": {
            "text/plain": [
              "Churn\n",
              "0    5174\n",
              "1    5174\n",
              "Name: count, dtype: int64"
            ]
          },
          "metadata": {},
          "execution_count": 100
        }
      ]
    },
    {
      "cell_type": "code",
      "source": [
        "ax = sns.countplot(x='Churn', hue='Churn', data=dados_final)"
      ],
      "metadata": {
        "colab": {
          "base_uri": "https://localhost:8080/"
        },
        "id": "itJKVNn8re6I",
        "outputId": "8f79cb77-d4c9-4ebc-ef01-9a72b7cc4490"
      },
      "execution_count": null,
      "outputs": [
        {
          "output_type": "display_data",
          "data": {
            "text/plain": [
              "<Figure size 640x480 with 1 Axes>"
            ],
            "image/png": "[encoded data removed]"
          },
          "metadata": {}
        }
      ]
    },
    {
      "cell_type": "markdown",
      "source": [
        "# 2 Support Vector Classifier (SVC)"
      ],
      "metadata": {
        "id": "NdIO7E6ysNl4"
      }
    },
    {
      "cell_type": "markdown",
      "source": [
        "## 2.1 - Importando bibliotecas"
      ],
      "metadata": {
        "id": "jUNRS2DxtaqI"
      }
    },
    {
      "cell_type": "code",
      "source": [
        "from sklearn.svm import SVC\n",
        "from sklearn.model_selection import train_test_split\n",
        "from sklearn.metrics import accuracy_score\n",
        "from sklearn.preprocessing import StandardScaler"
      ],
      "metadata": {
        "id": "qxI22l_Jskj5"
      },
      "execution_count": null,
      "outputs": []
    },
    {
      "cell_type": "markdown",
      "source": [
        "## 2.2 - Normalizar dados (numéricos) na mesma escala - Parte do pré-processamento"
      ],
      "metadata": {
        "id": "Hz3MbvqeukRP"
      }
    },
    {
      "cell_type": "code",
      "source": [
        "norm = StandardScaler()\n",
        "X_normalizado = norm.fit_transform(X)\n",
        "X_normalizado"
      ],
      "metadata": {
        "colab": {
          "base_uri": "https://localhost:8080/"
        },
        "id": "_UrSJSdNzQB_",
        "outputId": "28a0b57d-eeb2-4bb9-c3bb-b1ca4bdcbd16"
      },
      "execution_count": null,
      "outputs": [
        {
          "output_type": "execute_result",
          "data": {
            "text/plain": [
              "array([[ 1.26568609, -0.52726104, -3.0591434 , ...,  1.05361957,\n",
              "        -0.54727528, -0.53130034],\n",
              "       [-0.79008532, -0.52726104,  0.32688889, ..., -0.94910918,\n",
              "         1.82723399, -0.53130034],\n",
              "       [-0.79008532, -0.52726104,  0.32688889, ..., -0.94910918,\n",
              "         1.82723399, -0.53130034],\n",
              "       ...,\n",
              "       [-0.79008532, -0.52726104,  0.32688889, ...,  1.05361957,\n",
              "        -0.54727528, -0.53130034],\n",
              "       [-0.79008532, -0.52726104,  0.32688889, ..., -0.94910918,\n",
              "        -0.54727528, -0.53130034],\n",
              "       [-0.79008532, -0.52726104,  0.32688889, ..., -0.94910918,\n",
              "        -0.54727528, -0.53130034]])"
            ]
          },
          "metadata": {},
          "execution_count": 103
        }
      ]
    },
    {
      "cell_type": "markdown",
      "source": [
        "## 2.3 - Separar dados de treino e teste\n"
      ],
      "metadata": {
        "id": "1_nIq0pMtnvo"
      }
    },
    {
      "cell_type": "code",
      "source": [
        "#Features(X) Classes (Y)\n",
        "\n",
        "X = dados_final.drop('Churn', axis=1)\n",
        "y = dados_final['Churn']"
      ],
      "metadata": {
        "id": "dSH6P0jAtr5g"
      },
      "execution_count": null,
      "outputs": []
    },
    {
      "cell_type": "code",
      "source": [
        "seed = 123\n",
        "x_treino, x_teste, y_treino, y_teste = train_test_split(X_normalizado,y, random_state=seed, test_size = 0.25, stratify=y) #Dividir as classes proporcionamente conforme o y\n",
        "print(\"Treinamento com %d elementos e testaremos com %d elementos\" % (len(x_treino), len(x_teste)))"
      ],
      "metadata": {
        "colab": {
          "base_uri": "https://localhost:8080/"
        },
        "id": "gR9mVIKg3C5G",
        "outputId": "63e5d8b9-e37a-44b3-8414-b7a7658d0eda"
      },
      "execution_count": null,
      "outputs": [
        {
          "output_type": "stream",
          "name": "stdout",
          "text": [
            "Treinamento com 7761 elementos e testaremos com 2587 elementos\n"
          ]
        }
      ]
    },
    {
      "cell_type": "markdown",
      "source": [
        "## 2.4 - Criar modelo"
      ],
      "metadata": {
        "id": "YYRicmyUtvw_"
      }
    },
    {
      "cell_type": "code",
      "source": [
        "svc = SVC(gamma='auto', random_state=seed)\n",
        "svc"
      ],
      "metadata": {
        "colab": {
          "base_uri": "https://localhost:8080/",
          "height": 75
        },
        "id": "kRFa7Ak1tzyI",
        "outputId": "54a47fb3-376b-4d01-8307-9293b5673289"
      },
      "execution_count": null,
      "outputs": [
        {
          "output_type": "execute_result",
          "data": {
            "text/plain": [
              "SVC(gamma='auto', random_state=123)"
            ],
            "text/html": [
              "<style>#sk-container-id-3 {color: black;}#sk-container-id-3 pre{padding: 0;}#sk-container-id-3 div.sk-toggleable {background-color: white;}#sk-container-id-3 label.sk-toggleable__label {cursor: pointer;display: block;width: 100%;margin-bottom: 0;padding: 0.3em;box-sizing: border-box;text-align: center;}#sk-container-id-3 label.sk-toggleable__label-arrow:before {content: \"▸\";float: left;margin-right: 0.25em;color: #696969;}#sk-container-id-3 label.sk-toggleable__label-arrow:hover:before {color: black;}#sk-container-id-3 div.sk-estimator:hover label.sk-toggleable__label-arrow:before {color: black;}#sk-container-id-3 div.sk-toggleable__content {max-height: 0;max-width: 0;overflow: hidden;text-align: left;background-color: #f0f8ff;}#sk-container-id-3 div.sk-toggleable__content pre {margin: 0.2em;color: black;border-radius: 0.25em;background-color: #f0f8ff;}#sk-container-id-3 input.sk-toggleable__control:checked~div.sk-toggleable__content {max-height: 200px;max-width: 100%;overflow: auto;}#sk-container-id-3 input.sk-toggleable__control:checked~label.sk-toggleable__label-arrow:before {content: \"▾\";}#sk-container-id-3 div.sk-estimator input.sk-toggleable__control:checked~label.sk-toggleable__label {background-color: #d4ebff;}#sk-container-id-3 div.sk-label input.sk-toggleable__control:checked~label.sk-toggleable__label {background-color: #d4ebff;}#sk-container-id-3 input.sk-hidden--visually {border: 0;clip: rect(1px 1px 1px 1px);clip: rect(1px, 1px, 1px, 1px);height: 1px;margin: -1px;overflow: hidden;padding: 0;position: absolute;width: 1px;}#sk-container-id-3 div.sk-estimator {font-family: monospace;background-color: #f0f8ff;border: 1px dotted black;border-radius: 0.25em;box-sizing: border-box;margin-bottom: 0.5em;}#sk-container-id-3 div.sk-estimator:hover {background-color: #d4ebff;}#sk-container-id-3 div.sk-parallel-item::after {content: \"\";width: 100%;border-bottom: 1px solid gray;flex-grow: 1;}#sk-container-id-3 div.sk-label:hover label.sk-toggleable__label {background-color: #d4ebff;}#sk-container-id-3 div.sk-serial::before {content: \"\";position: absolute;border-left: 1px solid gray;box-sizing: border-box;top: 0;bottom: 0;left: 50%;z-index: 0;}#sk-container-id-3 div.sk-serial {display: flex;flex-direction: column;align-items: center;background-color: white;padding-right: 0.2em;padding-left: 0.2em;position: relative;}#sk-container-id-3 div.sk-item {position: relative;z-index: 1;}#sk-container-id-3 div.sk-parallel {display: flex;align-items: stretch;justify-content: center;background-color: white;position: relative;}#sk-container-id-3 div.sk-item::before, #sk-container-id-3 div.sk-parallel-item::before {content: \"\";position: absolute;border-left: 1px solid gray;box-sizing: border-box;top: 0;bottom: 0;left: 50%;z-index: -1;}#sk-container-id-3 div.sk-parallel-item {display: flex;flex-direction: column;z-index: 1;position: relative;background-color: white;}#sk-container-id-3 div.sk-parallel-item:first-child::after {align-self: flex-end;width: 50%;}#sk-container-id-3 div.sk-parallel-item:last-child::after {align-self: flex-start;width: 50%;}#sk-container-id-3 div.sk-parallel-item:only-child::after {width: 0;}#sk-container-id-3 div.sk-dashed-wrapped {border: 1px dashed gray;margin: 0 0.4em 0.5em 0.4em;box-sizing: border-box;padding-bottom: 0.4em;background-color: white;}#sk-container-id-3 div.sk-label label {font-family: monospace;font-weight: bold;display: inline-block;line-height: 1.2em;}#sk-container-id-3 div.sk-label-container {text-align: center;}#sk-container-id-3 div.sk-container {/* jupyter's `normalize.less` sets `[hidden] { display: none; }` but bootstrap.min.css set `[hidden] { display: none !important; }` so we also need the `!important` here to be able to override the default hidden behavior on the sphinx rendered scikit-learn.org. See: https://github.com/scikit-learn/scikit-learn/issues/21755 */display: inline-block !important;position: relative;}#sk-container-id-3 div.sk-text-repr-fallback {display: none;}</style><div id=\"sk-container-id-3\" class=\"sk-top-container\"><div class=\"sk-text-repr-fallback\"><pre>SVC(gamma=&#x27;auto&#x27;, random_state=123)</pre><b>In a Jupyter environment, please rerun this cell to show the HTML representation or trust the notebook. <br />On GitHub, the HTML representation is unable to render, please try loading this page with nbviewer.org.</b></div><div class=\"sk-container\" hidden><div class=\"sk-item\"><div class=\"sk-estimator sk-toggleable\"><input class=\"sk-toggleable__control sk-hidden--visually\" id=\"sk-estimator-id-3\" type=\"checkbox\" checked><label for=\"sk-estimator-id-3\" class=\"sk-toggleable__label sk-toggleable__label-arrow\">SVC</label><div class=\"sk-toggleable__content\"><pre>SVC(gamma=&#x27;auto&#x27;, random_state=123)</pre></div></div></div></div></div>"
            ]
          },
          "metadata": {},
          "execution_count": 106
        }
      ]
    },
    {
      "cell_type": "markdown",
      "source": [
        "## 2.5 - Treinar modelo"
      ],
      "metadata": {
        "id": "IO_FyLG4uVOd"
      }
    },
    {
      "cell_type": "code",
      "source": [
        "treino_svc = svc.fit(x_treino, y_treino)\n",
        "print(treino_svc)"
      ],
      "metadata": {
        "colab": {
          "base_uri": "https://localhost:8080/"
        },
        "id": "AaK5kRXmuasv",
        "outputId": "12aea7e6-e016-473f-fdf4-d7e8a1c58298"
      },
      "execution_count": null,
      "outputs": [
        {
          "output_type": "stream",
          "name": "stdout",
          "text": [
            "SVC(gamma='auto', random_state=123)\n"
          ]
        }
      ]
    },
    {
      "cell_type": "markdown",
      "source": [
        "## 2.6 - Testar modelo"
      ],
      "metadata": {
        "id": "CH9heOMyubo-"
      }
    },
    {
      "cell_type": "code",
      "source": [
        "previsoes_svc = svc.predict(x_teste)\n",
        "print(previsoes_svc)"
      ],
      "metadata": {
        "colab": {
          "base_uri": "https://localhost:8080/"
        },
        "id": "0mI5TDyw4uwG",
        "outputId": "976520ad-911b-4bb3-cd3f-59cc4cc525b2"
      },
      "execution_count": null,
      "outputs": [
        {
          "output_type": "stream",
          "name": "stdout",
          "text": [
            "[1 0 0 ... 1 0 1]\n"
          ]
        }
      ]
    },
    {
      "cell_type": "code",
      "source": [
        "Xmaria_normalizado = norm.transform(Xmaria)\n",
        "previsoes_maria = svc.predict(Xmaria_normalizado)\n",
        "print(previsoes_maria)"
      ],
      "metadata": {
        "colab": {
          "base_uri": "https://localhost:8080/"
        },
        "id": "RknaD-po50UJ",
        "outputId": "c1482eb1-d695-472a-9fbd-0a732fb28753"
      },
      "execution_count": null,
      "outputs": [
        {
          "output_type": "stream",
          "name": "stdout",
          "text": [
            "[0]\n"
          ]
        },
        {
          "output_type": "stream",
          "name": "stderr",
          "text": [
            "/usr/local/lib/python3.10/dist-packages/sklearn/base.py:465: UserWarning: X does not have valid feature names, but StandardScaler was fitted with feature names\n",
            "  warnings.warn(\n"
          ]
        }
      ]
    },
    {
      "cell_type": "code",
      "source": [
        "Xmaria_normalizado"
      ],
      "metadata": {
        "colab": {
          "base_uri": "https://localhost:8080/"
        },
        "id": "R4pqXczm7bof",
        "outputId": "c32de3c2-9b80-47e0-9ff2-63070b66cf21"
      },
      "execution_count": null,
      "outputs": [
        {
          "output_type": "execute_result",
          "data": {
            "text/plain": [
              "array([[-0.79008532, -0.52726104,  0.32688889,  0.81449258, -0.41318358,\n",
              "        -1.14939314, -0.97235197,  1.00426111, -0.32688889, -0.93540224,\n",
              "        -0.67423777,  0.94470379, -0.44850949,  0.77819389, -0.44850949,\n",
              "        -0.59625062, -1.0970768 , -0.44850949,  1.3517849 ,  0.91935908,\n",
              "         2.22960721, -0.73991904, -1.27243223,  2.22960721, -0.60667885,\n",
              "         1.08898545, -0.44850949, -0.84672335, -0.904075  , -0.44850949,\n",
              "         1.16590099, -0.4605816 , -1.45333425,  2.1147664 , -0.50805069,\n",
              "        -0.94910918, -0.54727528,  1.8821746 ]])"
            ]
          },
          "metadata": {},
          "execution_count": 110
        }
      ]
    },
    {
      "cell_type": "code",
      "source": [
        "y_teste"
      ],
      "metadata": {
        "colab": {
          "base_uri": "https://localhost:8080/"
        },
        "id": "yQICNkeokIZK",
        "outputId": "40230b9b-cfba-44c8-869d-b55eeb105cb6"
      },
      "execution_count": null,
      "outputs": [
        {
          "output_type": "execute_result",
          "data": {
            "text/plain": [
              "9385     1\n",
              "3570     0\n",
              "6465     0\n",
              "1214     1\n",
              "7334     1\n",
              "        ..\n",
              "9853     1\n",
              "5641     0\n",
              "10107    1\n",
              "4747     0\n",
              "8448     1\n",
              "Name: Churn, Length: 2587, dtype: int64"
            ]
          },
          "metadata": {},
          "execution_count": 111
        }
      ]
    },
    {
      "cell_type": "markdown",
      "source": [
        "# 3 Modelo K-nearest neighbors (KNN) - método baseado na proximidade\n"
      ],
      "metadata": {
        "id": "_d4jEXubcPuO"
      }
    },
    {
      "cell_type": "markdown",
      "source": [
        "## 3.1 - Importando bibliotecas"
      ],
      "metadata": {
        "id": "esFAjZfB63A9"
      }
    },
    {
      "cell_type": "code",
      "source": [
        "from sklearn.neighbors import KNeighborsClassifier\n",
        "from sklearn.model_selection import train_test_split\n",
        "from sklearn.metrics import accuracy_score\n",
        "from sklearn.preprocessing import StandardScaler"
      ],
      "metadata": {
        "id": "ix9C2BvP68lZ"
      },
      "execution_count": null,
      "outputs": []
    },
    {
      "cell_type": "markdown",
      "source": [
        "## 3.2 - KNN por trás dos panos"
      ],
      "metadata": {
        "id": "MvIfmyE2ckVV"
      }
    },
    {
      "cell_type": "markdown",
      "source": [
        "Distância Euclidiana:\n",
        "\n",
        "$$\\sqrt{\\sum_{i=1}^k(a_{i}-b_{i})^2}$$"
      ],
      "metadata": {
        "id": "pgU6OxezlB_F"
      }
    },
    {
      "cell_type": "code",
      "source": [
        "#Features(X) Classes (Y)\n",
        "X = dados_final.drop('Churn', axis=1)\n",
        "y = dados_final['Churn']\n",
        "\n",
        "#Separar treinos e testes\n",
        "seed = 123\n",
        "x_treino, x_teste, y_treino, y_teste = train_test_split(X_normalizado,y, random_state=seed, test_size = 0.25, stratify=y) #Dividir as classes proporcionamente conforme o y\n",
        "print(\"Treinamento com %d elementos e testaremos com %d elementos\" % (len(x_treino), len(x_teste)))\n",
        "\n",
        "#Instanciando o modelo (criamos o modelo) - por padrão são 5 vizinhos\n",
        "knn = KNeighborsClassifier(metric='euclidean', n_neighbors=11)\n",
        "\n",
        "#Treinando modelo\n",
        "knn.fit(x_treino, y_treino)\n",
        "\n",
        "#Testar modelo\n",
        "previsoes_knn = knn.predict(x_teste)\n",
        "print(previsoes_knn)\n",
        "#Acurácia\n",
        "acuracia = accuracy_score(y_teste, previsoes_knn) * 100\n",
        "print(\"A acurácia do knn foi %.2f%%\" % acuracia)"
      ],
      "metadata": {
        "colab": {
          "base_uri": "https://localhost:8080/"
        },
        "id": "D_C-wdQO7euJ",
        "outputId": "71304324-f532-4ae2-c389-244c77e27f0f"
      },
      "execution_count": null,
      "outputs": [
        {
          "output_type": "stream",
          "name": "stdout",
          "text": [
            "Treinamento com 7761 elementos e testaremos com 2587 elementos\n",
            "[1 0 0 ... 1 0 1]\n",
            "A acurácia do knn foi 81.79%\n"
          ]
        }
      ]
    },
    {
      "cell_type": "code",
      "source": [
        "#Refazendo o código para Xmaria_normalizado\n",
        "Xmaria_normalizado = norm.transform(Xmaria)\n",
        "previsoes_knn_maria = knn.predict(Xmaria_normalizado)\n",
        "print(\"Previsão para Xmaria:\", previsoes_knn_maria)"
      ],
      "metadata": {
        "colab": {
          "base_uri": "https://localhost:8080/"
        },
        "id": "xglag2tIEEZr",
        "outputId": "2f0c4631-7c26-4cbc-d69b-921318d16566"
      },
      "execution_count": null,
      "outputs": [
        {
          "output_type": "stream",
          "name": "stdout",
          "text": [
            "Previsão para Xmaria: [0]\n"
          ]
        },
        {
          "output_type": "stream",
          "name": "stderr",
          "text": [
            "/usr/local/lib/python3.10/dist-packages/sklearn/base.py:465: UserWarning: X does not have valid feature names, but StandardScaler was fitted with feature names\n",
            "  warnings.warn(\n"
          ]
        }
      ]
    },
    {
      "cell_type": "markdown",
      "source": [
        "# 4 Método probabilístico"
      ],
      "metadata": {
        "id": "EKHFh1Pr7G40"
      }
    },
    {
      "cell_type": "markdown",
      "source": [
        "## 4.1 - Teorema de Naive Bayes\n",
        "\n"
      ],
      "metadata": {
        "id": "b_EAQ1nf7VUu"
      }
    },
    {
      "cell_type": "markdown",
      "source": [
        "$P(y|X)$ = ${P(X|y) + P(y) \\over P(X)}$"
      ],
      "metadata": {
        "id": "9J0NENb2atL9"
      }
    },
    {
      "cell_type": "markdown",
      "source": [
        "$P(xi|y)$ = P(i|y)xi + (1 - P(i|y))(1 - xi)"
      ],
      "metadata": {
        "id": "O1VK_lH5UYHr"
      }
    },
    {
      "cell_type": "code",
      "source": [
        "from sklearn.naive_bayes import GaussianNB\n",
        "from sklearn.naive_bayes import MultinomialNB\n",
        "from sklearn.neighbors import KNeighborsClassifier\n",
        "from sklearn.model_selection import train_test_split\n",
        "from sklearn.metrics import accuracy_score\n",
        "from sklearn.preprocessing import StandardScaler\n",
        "\n",
        "#Features(X) Classes (Y)\n",
        "X = dados_final.drop('Churn', axis=1)\n",
        "y = dados_final['Churn']\n",
        "\n",
        "#Separar treinos e testes\n",
        "seed = 123\n",
        "x_treino, x_teste, y_treino, y_teste = train_test_split(X,y, random_state=seed, test_size = 0.25, stratify=y) #Dividir as classes proporcionamente conforme o y\n",
        "print(\"Treinamento com %d elementos e testaremos com %d elementos\" % (len(x_treino), len(x_teste)))\n",
        "\n",
        "#Instanciando o modelo\n",
        "naive_bayes = MultinomialNB() #GaussianNB()\n",
        "\n",
        "#Treinando o modelo\n",
        "naive_bayes.fit(x_treino, y_treino)\n",
        "\n",
        "#Fazendo previsões\n",
        "previsoes_nb = naive_bayes.predict(x_teste)\n",
        "\n",
        "#Calculando a acurácia\n",
        "acuracia_nb = accuracy_score(y_teste, previsoes_nb) * 100\n",
        "print(\"A acurácia do Naive Bayes foi %.2f%%\" % acuracia_nb)\n",
        "\n",
        "#Refazendo o código para Xmaria_normalizado\n",
        "#Xmaria_normalizado = norm.transform(Xmaria)\n",
        "previsoes_nb_maria = naive_bayes.predict(Xmaria)\n",
        "print(\"Previsão para Xmaria:\", previsoes_nb_maria)"
      ],
      "metadata": {
        "id": "Rr1MDt8XV4ls",
        "colab": {
          "base_uri": "https://localhost:8080/"
        },
        "outputId": "f2904e05-7f9a-4da5-cbd7-12913f5e764e"
      },
      "execution_count": null,
      "outputs": [
        {
          "output_type": "stream",
          "name": "stdout",
          "text": [
            "Treinamento com 7761 elementos e testaremos com 2587 elementos\n",
            "A acurácia do Naive Bayes foi 73.83%\n",
            "Previsão para Xmaria: [1]\n"
          ]
        },
        {
          "output_type": "stream",
          "name": "stderr",
          "text": [
            "/usr/local/lib/python3.10/dist-packages/sklearn/base.py:465: UserWarning: X does not have valid feature names, but MultinomialNB was fitted with feature names\n",
            "  warnings.warn(\n"
          ]
        }
      ]
    },
    {
      "cell_type": "code",
      "source": [
        "from sklearn.naive_bayes import BernoulliNB\n",
        "\n",
        "#Features (X) e Classes (y)\n",
        "X = dados_final.drop('Churn', axis=1)\n",
        "y = dados_final[\"Churn\"]\n",
        "\n",
        "#Normalizar os dados (dados numéricos)\n",
        "#norm = StandardScaler()\n",
        "#X_normalizado = norm.fit_transform(x)\n",
        "\n",
        "\n",
        "# separar dados de treino e teste\n",
        "SEED = 123\n",
        "x_treino, x_teste, y_treino, y_teste = train_test_split(X, y, test_size = 0.25, random_state = SEED, stratify=y)\n",
        "\n",
        "# criar o modelo\n",
        "bnb = BernoulliNB()\n",
        "\n",
        "# treinar o modelo\n",
        "bnb.fit(x_treino, y_treino)\n",
        "\n",
        "# testar o modelo\n",
        "previsoes_nb = bnb.predict(x_teste)\n",
        "\n",
        "#Acurácia\n",
        "acuracia_bnb = accuracy_score(y_teste, previsoes_nb) * 100\n",
        "print(\"A acurácia do Bernoulli Naive Bayes foi %.2f%%\" % acuracia_bnb)\n",
        "\n",
        "# usar o moelo\n",
        "# Xmaria_normalizado = norm.transform(Xmaria)\n",
        "print(bnb.predict(Xmaria))"
      ],
      "metadata": {
        "id": "Hz3Z1J66V4Lu",
        "colab": {
          "base_uri": "https://localhost:8080/"
        },
        "outputId": "ea12d59f-6a10-4ec9-8d2c-a1b812b530e2"
      },
      "execution_count": null,
      "outputs": [
        {
          "output_type": "stream",
          "name": "stdout",
          "text": [
            "A acurácia do Bernoulli Naive Bayes foi 76.42%\n",
            "[0]\n"
          ]
        },
        {
          "output_type": "stream",
          "name": "stderr",
          "text": [
            "/usr/local/lib/python3.10/dist-packages/sklearn/base.py:465: UserWarning: X does not have valid feature names, but BernoulliNB was fitted with feature names\n",
            "  warnings.warn(\n"
          ]
        }
      ]
    },
    {
      "cell_type": "markdown",
      "source": [
        "# 5 Método Simbólico"
      ],
      "metadata": {
        "id": "I0QZ6_rY00NG"
      }
    },
    {
      "cell_type": "markdown",
      "source": [
        "## Decision Tree"
      ],
      "metadata": {
        "id": "0q6vVxaNNxxe"
      }
    },
    {
      "cell_type": "code",
      "source": [
        "from sklearn.tree import DecisionTreeClassifier\n",
        "from sklearn.model_selection import train_test_split\n",
        "from sklearn.metrics import accuracy_score\n",
        "from sklearn.preprocessing import StandardScaler\n",
        "\n",
        "#Features (X) e Classes (y)\n",
        "X = dados_final.drop('Churn', axis=1)\n",
        "y = dados_final[\"Churn\"]\n",
        "\n",
        "#Normalizar os dados (dados numéricos)\n",
        "#norm = StandardScaler()\n",
        "#X_normalizado = norm.fit_transform(x)\n",
        "\n",
        "\n",
        "# separar dados de treino e teste\n",
        "SEED = 123\n",
        "x_treino, x_teste, y_treino, y_teste = train_test_split(X, y, test_size = 0.25, random_state = SEED, stratify=y)\n",
        "\n",
        "# criar o modelo\n",
        "\n",
        "dtc = DecisionTreeClassifier(max_depth=5)\n",
        "\n",
        "# treinar o modelo\n",
        "dtc.fit(x_treino, y_treino)\n",
        "\n",
        "# testar o modelo\n",
        "previsoes_dt = dtc.predict(x_teste)\n",
        "acuracia_dt = accuracy_score(y_teste, previsoes_dt) * 100\n",
        "print(\"A acurácia da árvore de Decisão foi %.2f%%\" % acuracia_dt)\n",
        "# usar o moelo\n",
        "# Xmaria_normalizado = norm.transform(Xmaria)\n",
        "print(dtc.predict(Xmaria))"
      ],
      "metadata": {
        "id": "kHfQ3D9UN0xc",
        "colab": {
          "base_uri": "https://localhost:8080/"
        },
        "outputId": "bf15347c-35a1-4bf0-ad24-5572e0216f88"
      },
      "execution_count": null,
      "outputs": [
        {
          "output_type": "stream",
          "name": "stdout",
          "text": [
            "A acurácia da árvore de Decisão foi 79.71%\n",
            "[0]\n"
          ]
        },
        {
          "output_type": "stream",
          "name": "stderr",
          "text": [
            "/usr/local/lib/python3.10/dist-packages/sklearn/base.py:465: UserWarning: X does not have valid feature names, but DecisionTreeClassifier was fitted with feature names\n",
            "  warnings.warn(\n"
          ]
        }
      ]
    },
    {
      "cell_type": "markdown",
      "source": [
        "## 5.1 - Por trás da árvore de decisão"
      ],
      "metadata": {
        "id": "6x5PyK49ivCL"
      }
    },
    {
      "cell_type": "markdown",
      "source": [
        "Critério de divisão dos nós\n",
        "\n",
        "Para conseguir identificar qual o melhor momento em que um nó deve ser dividido em dois ou mais subnós, o algoritmo da árvore de decisão considera alguns critérios. Os dois principais critérios de divisão usados nas árvores de decisão são:\n",
        "\n",
        "**Índice Gini**\n",
        "\n",
        "Este índice informa o grau de heterogeneidade dos dados. O objetivo dele é medir a frequência de um elemento aleatório de um nó ser rotulado de maneira incorreta. Em outros termos, esse índice é capaz de medir a impureza de um nó e ele é determinado por meio do seguinte cálculo:\n",
        "\n",
        "\n",
        "![image.png](data:image/png;base64,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)\n",
        "\n",
        "Onde:\n",
        "\n",
        "p(i) representa a frequência relativa das classes em cada um dos nós;\n",
        "k é o número de classes. Se o índice Gini for igual a 0, isso indica que o nó é puro. No entanto, se o valor dele se aproxima mais do valor 1, o nó é impuro.\n",
        "\n",
        "**Entropia***\n",
        "\n",
        "A ideia básica da entropia é medir a desordem dos dados de um nó por meio da variável classificadora. Assim como o índice de Gini, ela é utilizada para caracterizar a impureza dos dados e pode ser calculada por meio da seguinte fórmula:\n",
        "\n",
        "![image.png](data:image/png;base64,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)\n",
        "\n",
        "\n",
        "Onde:\n",
        "\n",
        "pi representa a proporção de dados no conjunto de dados (S), pertencentes à classe específica i; c é o número de classes.\n"
      ],
      "metadata": {
        "id": "jdtLgDk3sAQZ"
      }
    },
    {
      "cell_type": "code",
      "source": [],
      "metadata": {
        "id": "bW1W6_HcV3fH"
      },
      "execution_count": null,
      "outputs": []
    },
    {
      "cell_type": "markdown",
      "source": [
        "# 6 Validação dos modelos"
      ],
      "metadata": {
        "id": "lfmj_l6ztF5J"
      }
    },
    {
      "cell_type": "markdown",
      "source": [
        "## 6.1 - Matriz de confusão\n",
        "\n"
      ],
      "metadata": {
        "id": "5LcpGgohtOM5"
      }
    },
    {
      "cell_type": "markdown",
      "source": [
        "![image.png](data:image/png;base64,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)"
      ],
      "metadata": {
        "id": "BbHrkrAnxhmv"
      }
    },
    {
      "cell_type": "code",
      "source": [
        "#Confusion matrix\n",
        "\n",
        "from sklearn.metrics import confusion_matrix\n",
        "mc_svc = confusion_matrix(y_teste, previsoes_svc)\n",
        "mc_knn = confusion_matrix(y_teste, previsoes_knn)\n",
        "mc_nb = confusion_matrix(y_teste, previsoes_nb)\n",
        "mc_dt = confusion_matrix(y_teste, previsoes_dt)"
      ],
      "metadata": {
        "id": "Er78PMzLV2k5"
      },
      "execution_count": null,
      "outputs": []
    },
    {
      "cell_type": "markdown",
      "source": [
        "## Código Matrix de confusão"
      ],
      "metadata": {
        "id": "cJz6wtzdi8wb"
      }
    },
    {
      "cell_type": "code",
      "source": [
        "# Definindo os valores verdadeiros e preditos:\n",
        "\n",
        "valores_preditos = [0, 1, 1, 1, 0, 0, 1, 0, 0, 1]\n",
        "valores_verdadeiros= valores_verdadeiros= [0, 1, 0, 1, 0, 0, 1, 0, 1, 0]"
      ],
      "metadata": {
        "id": "ENpElDBMjCEC"
      },
      "execution_count": null,
      "outputs": []
    },
    {
      "cell_type": "code",
      "source": [
        "# Importando o método da matriz de confusão\n",
        "\n",
        "from sklearn.metrics import confusion_matrix\n",
        "\n",
        "mc = confusion_matrix(valores_verdadeiros, valores_preditos)  # Matriz de confusão\n",
        "mc"
      ],
      "metadata": {
        "colab": {
          "base_uri": "https://localhost:8080/"
        },
        "id": "tvXceu3hjDgK",
        "outputId": "9b1de503-95ff-4af5-d992-0475b70f4614"
      },
      "execution_count": null,
      "outputs": [
        {
          "output_type": "execute_result",
          "data": {
            "text/plain": [
              "array([[4, 2],\n",
              "       [1, 3]])"
            ]
          },
          "metadata": {},
          "execution_count": 124
        }
      ]
    },
    {
      "cell_type": "code",
      "source": [
        "import seaborn as sns\n",
        "import matplotlib.pyplot as plt\n",
        "import numpy as np\n",
        "\n",
        "def gerando_matriz(matriz_confusao, labels, categorias, cmap=\"viridis\"):\n",
        "    group_counts = [f\"{value}\" for value in matriz_confusao.flatten()]\n",
        "    labels = [f\"{v1}\" for v1 in labels]\n",
        "    lb = [f\"{v1}\\n{v2}\" for v1, v2 in zip(labels, group_counts)]\n",
        "    lb = np.asarray(lb).reshape(matriz_confusao.shape)\n",
        "\n",
        "    ax = plt.subplot()\n",
        "    sns.set(font_scale=1.1)\n",
        "    sns.heatmap(matriz_confusao, annot=lb, ax=ax, cmap=cmap, fmt=\"\", xticklabels=categorias,yticklabels=categorias)\n",
        "\n",
        "    label_font = {'size':'12'}\n",
        "    ax.set_xlabel('Valores preditos', fontdict=label_font);\n",
        "    ax.set_ylabel('Valores verdadeiros', fontdict=label_font);\n",
        "\n",
        "    ax.tick_params(axis='both', which='major', labelsize=10)\n",
        "\n",
        "\n",
        "categorias = [\"0\", \"1\"]\n",
        "labels = ['Verdadeiro Negativo','Falso Positivo',\n",
        "          'Falso Negativo','Verdadeiro Positivo']\n",
        "\n",
        "gerando_matriz(mc_svc, labels, categorias, cmap=\"magma_r\")"
      ],
      "metadata": {
        "colab": {
          "base_uri": "https://localhost:8080/",
          "height": 457
        },
        "id": "ZHK8OZM6jFtz",
        "outputId": "6086b460-e046-4950-a7ab-f01fc9fc1527"
      },
      "execution_count": null,
      "outputs": [
        {
          "output_type": "display_data",
          "data": {
            "text/plain": [
              "<Figure size 640x480 with 2 Axes>"
            ],
            "image/png": "[encoded data removed]"
          },
          "metadata": {}
        }
      ]
    },
    {
      "cell_type": "code",
      "source": [
        "gerando_matriz(mc_knn, labels, categorias, cmap=\"magma_r\")"
      ],
      "metadata": {
        "colab": {
          "base_uri": "https://localhost:8080/",
          "height": 457
        },
        "id": "jXfMqTQ5mfrp",
        "outputId": "ea1475d3-82d1-4941-a893-bdb5632edec3"
      },
      "execution_count": null,
      "outputs": [
        {
          "output_type": "display_data",
          "data": {
            "text/plain": [
              "<Figure size 640x480 with 2 Axes>"
            ],
            "image/png": "[encoded data removed]"
          },
          "metadata": {}
        }
      ]
    },
    {
      "cell_type": "code",
      "source": [
        "gerando_matriz(mc_nb, labels, categorias, cmap=\"magma_r\")"
      ],
      "metadata": {
        "colab": {
          "base_uri": "https://localhost:8080/",
          "height": 457
        },
        "id": "7AkFyxAZmiPZ",
        "outputId": "9734c6cc-6d83-42f7-9b50-579c0975dfbc"
      },
      "execution_count": null,
      "outputs": [
        {
          "output_type": "display_data",
          "data": {
            "text/plain": [
              "<Figure size 640x480 with 2 Axes>"
            ],
            "image/png": "[encoded data removed]"
          },
          "metadata": {}
        }
      ]
    },
    {
      "cell_type": "code",
      "source": [
        "gerando_matriz(mc_dt, labels, categorias, cmap=\"magma_r\")"
      ],
      "metadata": {
        "colab": {
          "base_uri": "https://localhost:8080/",
          "height": 457
        },
        "id": "BNJb9ffUmlIR",
        "outputId": "ceb47b6e-1ced-46fd-f9e5-55e5aaa5b533"
      },
      "execution_count": null,
      "outputs": [
        {
          "output_type": "display_data",
          "data": {
            "text/plain": [
              "<Figure size 640x480 with 2 Axes>"
            ],
            "image/png": "[encoded data removed]"
          },
          "metadata": {}
        }
      ]
    },
    {
      "cell_type": "markdown",
      "source": [
        "## 6.2 - Acurácia\n",
        "A partir do calculo da matriz de confusão conseguimos inferir outras métricas, como por exemplo a acurária.\n",
        "\n",
        "\n",
        "\n",
        "\n",
        "$ACC$ = ${TP + TN \\over TP + FP + TN + FN}$"
      ],
      "metadata": {
        "id": "sQb7vnC12XUf"
      }
    },
    {
      "cell_type": "code",
      "source": [
        "from sklearn.metrics import accuracy_score"
      ],
      "metadata": {
        "id": "vazdw7-Dnw8R"
      },
      "execution_count": null,
      "outputs": []
    },
    {
      "cell_type": "code",
      "source": [
        "#Modelo SVC\n",
        "acc_svc = accuracy_score(y_teste, previsoes_svc)\n",
        "print(acc_svc)"
      ],
      "metadata": {
        "id": "jbrrbykMV0aZ",
        "colab": {
          "base_uri": "https://localhost:8080/"
        },
        "outputId": "29e552a7-8208-49cf-a14f-b2a5d2808de5"
      },
      "execution_count": null,
      "outputs": [
        {
          "output_type": "stream",
          "name": "stdout",
          "text": [
            "0.8376497873985311\n"
          ]
        }
      ]
    },
    {
      "cell_type": "code",
      "source": [
        "#Modelo KNN\n",
        "acc_knn = accuracy_score(y_teste, previsoes_knn)\n",
        "print(acc_knn)"
      ],
      "metadata": {
        "colab": {
          "base_uri": "https://localhost:8080/"
        },
        "id": "JdLbkWgcoGe7",
        "outputId": "7920271b-0030-4936-a942-c30ffef4c1ab"
      },
      "execution_count": null,
      "outputs": [
        {
          "output_type": "stream",
          "name": "stdout",
          "text": [
            "0.8179358330112099\n"
          ]
        }
      ]
    },
    {
      "cell_type": "code",
      "source": [
        "#Modelo NB\n",
        "acc_nb = accuracy_score(y_teste, previsoes_nb)\n",
        "print(acc_nb)"
      ],
      "metadata": {
        "colab": {
          "base_uri": "https://localhost:8080/"
        },
        "id": "_Y7SqJzRoHBD",
        "outputId": "ba0847ba-0108-44b5-f4fc-ed52efcec9e6"
      },
      "execution_count": null,
      "outputs": [
        {
          "output_type": "stream",
          "name": "stdout",
          "text": [
            "0.7642056436026285\n"
          ]
        }
      ]
    },
    {
      "cell_type": "code",
      "source": [
        "#Modelo DT\n",
        "acc_dt = accuracy_score(y_teste, previsoes_dt)\n",
        "print(acc_dt)"
      ],
      "metadata": {
        "colab": {
          "base_uri": "https://localhost:8080/"
        },
        "id": "N-xLSelyoHiD",
        "outputId": "d75b9bcc-271e-414b-dd69-93e7e5aaef6a"
      },
      "execution_count": null,
      "outputs": [
        {
          "output_type": "stream",
          "name": "stdout",
          "text": [
            "0.7970622342481639\n"
          ]
        }
      ]
    },
    {
      "cell_type": "markdown",
      "source": [
        "## 6.3 - Precisão\n",
        "\n",
        "Outra métrica importante é a precisão, que calcula quantos foram classificados corretamento como positivos ($TP$).\n",
        "\n",
        "$PS$ = ${TP \\over TP + FP}$"
      ],
      "metadata": {
        "id": "kfzcKhw42tmX"
      }
    },
    {
      "cell_type": "code",
      "source": [
        "from sklearn.metrics import precision_score"
      ],
      "metadata": {
        "id": "8DZfDu8Coz74"
      },
      "execution_count": null,
      "outputs": []
    },
    {
      "cell_type": "code",
      "source": [
        "#Modelo SVC\n",
        "prec_svc = precision_score(y_teste, previsoes_svc)\n",
        "print(prec_svc)"
      ],
      "metadata": {
        "id": "ARbi4Tv2V04f",
        "colab": {
          "base_uri": "https://localhost:8080/"
        },
        "outputId": "e00b38d6-2c57-4c8f-b617-dbea6ebaade1"
      },
      "execution_count": null,
      "outputs": [
        {
          "output_type": "stream",
          "name": "stdout",
          "text": [
            "0.8511665325824618\n"
          ]
        }
      ]
    },
    {
      "cell_type": "code",
      "source": [
        "#Modelo KNN\n",
        "prec_knn = precision_score(y_teste, previsoes_knn)\n",
        "print(prec_knn)"
      ],
      "metadata": {
        "colab": {
          "base_uri": "https://localhost:8080/"
        },
        "id": "qOu0ao_Do6vo",
        "outputId": "8325070f-1740-4e5f-f980-a322e11bb132"
      },
      "execution_count": null,
      "outputs": [
        {
          "output_type": "stream",
          "name": "stdout",
          "text": [
            "0.8039940828402367\n"
          ]
        }
      ]
    },
    {
      "cell_type": "code",
      "source": [
        "#Modelo NB\n",
        "prec_nb = precision_score(y_teste, previsoes_nb)\n",
        "print(prec_nb)"
      ],
      "metadata": {
        "colab": {
          "base_uri": "https://localhost:8080/"
        },
        "id": "FB49PeS_o7ZJ",
        "outputId": "9f0d92f6-7d1c-461a-89d9-f535f003e943"
      },
      "execution_count": null,
      "outputs": [
        {
          "output_type": "stream",
          "name": "stdout",
          "text": [
            "0.7198969735994849\n"
          ]
        }
      ]
    },
    {
      "cell_type": "code",
      "source": [
        "#Modelo DT\n",
        "prec_dt = precision_score(y_teste, previsoes_dt)\n",
        "print(prec_dt)"
      ],
      "metadata": {
        "colab": {
          "base_uri": "https://localhost:8080/"
        },
        "id": "WsFIsrwNo7GZ",
        "outputId": "2b52be64-0fac-4517-a3b2-5f4406d0c899"
      },
      "execution_count": null,
      "outputs": [
        {
          "output_type": "stream",
          "name": "stdout",
          "text": [
            "0.8316062176165803\n"
          ]
        }
      ]
    },
    {
      "cell_type": "markdown",
      "source": [
        "## 6.4 - Recall\n",
        "\n",
        "Outra métrica importante é a Recall ou revocação ou ainda sensibilidade, que calcula o quão bom o modelo está para classificar corretamente um resultado positivo ($TP$).\n",
        "\n",
        "$RC$ = ${TP \\over TP + FN}$"
      ],
      "metadata": {
        "id": "TW59AoyU3DvW"
      }
    },
    {
      "cell_type": "code",
      "source": [
        "from sklearn.metrics import recall_score"
      ],
      "metadata": {
        "id": "5LkeruYQpWYh"
      },
      "execution_count": null,
      "outputs": []
    },
    {
      "cell_type": "code",
      "source": [
        "#Modelo SVC\n",
        "rec_svc = recall_score(y_teste, previsoes_svc)\n",
        "print(rec_svc)"
      ],
      "metadata": {
        "colab": {
          "base_uri": "https://localhost:8080/"
        },
        "id": "UuDrMTk7pZ2I",
        "outputId": "9cc05d5a-cccc-4977-f72d-1d8f0e9e2da3"
      },
      "execution_count": null,
      "outputs": [
        {
          "output_type": "stream",
          "name": "stdout",
          "text": [
            "0.8182521268368136\n"
          ]
        }
      ]
    },
    {
      "cell_type": "code",
      "source": [
        "#Modelo KNN\n",
        "rec_knn = recall_score(y_teste, previsoes_knn)\n",
        "print(rec_knn)"
      ],
      "metadata": {
        "id": "O9kax_eWV1bu",
        "colab": {
          "base_uri": "https://localhost:8080/"
        },
        "outputId": "448098ef-581a-45c1-a236-a02f79b31fb2"
      },
      "execution_count": null,
      "outputs": [
        {
          "output_type": "stream",
          "name": "stdout",
          "text": [
            "0.8406805877803558\n"
          ]
        }
      ]
    },
    {
      "cell_type": "code",
      "source": [
        "#Modelo NB\n",
        "rec_nb = recall_score(y_teste, previsoes_nb)\n",
        "print(rec_nb)"
      ],
      "metadata": {
        "colab": {
          "base_uri": "https://localhost:8080/"
        },
        "id": "LM0NLoFIpcfh",
        "outputId": "d5bca503-1a94-4ebb-b886-fd4ccf08edab"
      },
      "execution_count": null,
      "outputs": [
        {
          "output_type": "stream",
          "name": "stdout",
          "text": [
            "0.8646558391337974\n"
          ]
        }
      ]
    },
    {
      "cell_type": "code",
      "source": [
        "#Modelo DT\n",
        "rec_dt = recall_score(y_teste, previsoes_dt)\n",
        "print(rec_dt)"
      ],
      "metadata": {
        "colab": {
          "base_uri": "https://localhost:8080/"
        },
        "id": "eRcgNmexpeSI",
        "outputId": "ec5d9884-e635-4092-e294-d3398b618f9a"
      },
      "execution_count": null,
      "outputs": [
        {
          "output_type": "stream",
          "name": "stdout",
          "text": [
            "0.7447795823665894\n"
          ]
        }
      ]
    },
    {
      "cell_type": "markdown",
      "source": [
        "## 6.5 - Escolhendo o melhor modelo\n"
      ],
      "metadata": {
        "id": "4O7N26Fg3XwI"
      }
    },
    {
      "cell_type": "markdown",
      "source": [
        "### Escolhendo o melhor modelo"
      ],
      "metadata": {
        "id": "fecnoNMtqpfo"
      }
    },
    {
      "cell_type": "markdown",
      "source": [
        "#### Melhor Precisão"
      ],
      "metadata": {
        "id": "mJ7UwJuur3uI"
      }
    },
    {
      "cell_type": "code",
      "source": [
        "# Comparando as métricas de cada modelo, podemos escolher o que melhor se adapta ao problema.\n",
        "# Neste caso, vamos supor que a precisão seja a métrica mais importante.\n",
        "# Logo, o modelo com a maior precisão é o melhor.\n",
        "\n",
        "if prec_svc > prec_knn and prec_svc > prec_nb and prec_svc > prec_dt:\n",
        "  print(\"O melhor modelo é o SVC.\")\n",
        "elif prec_knn > prec_svc and prec_knn > prec_nb and prec_knn > prec_dt:\n",
        "  print(\"O melhor modelo é o KNN.\")\n",
        "elif prec_nb > prec_svc and prec_nb > prec_knn and prec_nb > prec_dt:\n",
        "  print(\"O melhor modelo é o Naive Bayes.\")\n",
        "else:\n",
        "  print(\"O melhor modelo é o Decision Tree.\")"
      ],
      "metadata": {
        "id": "6AxVzHhhV1w_",
        "colab": {
          "base_uri": "https://localhost:8080/"
        },
        "outputId": "dbdb5c81-c9a8-4bb5-f083-cf819e639046"
      },
      "execution_count": null,
      "outputs": [
        {
          "output_type": "stream",
          "name": "stdout",
          "text": [
            "O melhor modelo é o SVC.\n"
          ]
        }
      ]
    },
    {
      "cell_type": "markdown",
      "source": [
        "#### Melhor recall"
      ],
      "metadata": {
        "id": "vpueoBpNr7ow"
      }
    },
    {
      "cell_type": "code",
      "source": [
        "# Comparando as métricas de cada modelo, podemos escolher o que melhor se adapta ao problema.\n",
        "# Neste caso, vamos supor que o recall seja a métrica mais importante.\n",
        "# Logo, o modelo com o maior recall é o melhor.\n",
        "\n",
        "if rec_svc > rec_knn and rec_svc > rec_nb and rec_svc > rec_dt:\n",
        "  print(\"O melhor modelo é o SVC.\")\n",
        "elif rec_knn > rec_svc and rec_knn > rec_nb and rec_knn > rec_dt:\n",
        "  print(\"O melhor modelo é o KNN.\")\n",
        "elif rec_nb > rec_svc and rec_nb > rec_knn and rec_nb > rec_dt:\n",
        "  print(\"O melhor modelo é o Naive Bayes.\")\n",
        "else:\n",
        "  print(\"O melhor modelo é o Decision Tree.\")"
      ],
      "metadata": {
        "colab": {
          "base_uri": "https://localhost:8080/"
        },
        "id": "i5ZCO99wsAqQ",
        "outputId": "b5905b1d-0e67-434c-8107-f933bdb0856d"
      },
      "execution_count": null,
      "outputs": [
        {
          "output_type": "stream",
          "name": "stdout",
          "text": [
            "O melhor modelo é o Naive Bayes.\n"
          ]
        }
      ]
    }
  ],
  "metadata": {
    "interpreter": {
      "hash": "df87b94f50c6b8081a9a425f6ade537f06441a824b7d68371eb29c5a5eb2838b"
    },
    "kernelspec": {
      "display_name": "Python 3.10.4 64-bit",
      "language": "python",
      "name": "python3"
    },
    "language_info": {
      "codemirror_mode": {
        "name": "ipython",
        "version": 3
      },
      "file_extension": ".py",
      "mimetype": "text/x-python",
      "name": "python",
      "nbconvert_exporter": "python",
      "pygments_lexer": "ipython3",
      "version": "3.10.4"
    },
    "orig_nbformat": 4,
    "colab": {
      "provenance": [],
      "collapsed_sections": [
        "uOxsWL4fyQ2J",
        "NdIO7E6ysNl4",
        "_d4jEXubcPuO"
      ]
    }
  },
  "nbformat": 4,
  "nbformat_minor": 0
}